{
 "cells": [
  {
   "cell_type": "code",
   "execution_count": 1,
   "metadata": {},
   "outputs": [],
   "source": [
    "import numpy as np\n",
    "import pandas as pd\n",
    "\n",
    "import networkx as nx\n",
    "\n",
    "import matplotlib.pyplot as plt\n",
    "%matplotlib inline\n",
    "plt.style.use('ggplot')\n",
    "\n",
    "import seaborn as sns\n"
   ]
  },
  {
   "cell_type": "code",
   "execution_count": 23,
   "metadata": {},
   "outputs": [],
   "source": [
    "df_ip = pd.read_csv('Train_Inpatientdata-1542865627584.csv')\n",
    "\n",
    "df_op = pd.read_csv('Train_Outpatientdata-1542865627584.csv')\n",
    "\n",
    "df_p = pd.read_csv('Train_Beneficiarydata-1542865627584.csv')\n",
    "flags = pd.read_csv('Train-1542865627584.csv')\n"
   ]
  },
  {
   "cell_type": "code",
   "execution_count": 24,
   "metadata": {},
   "outputs": [
    {
     "data": {
      "text/plain": [
       "40474"
      ]
     },
     "execution_count": 24,
     "metadata": {},
     "output_type": "execute_result"
    }
   ],
   "source": [
    "df_ip['ClaimID'].count()"
   ]
  },
  {
   "cell_type": "code",
   "execution_count": 25,
   "metadata": {},
   "outputs": [
    {
     "data": {
      "text/plain": [
       "'2008-11-27'"
      ]
     },
     "execution_count": 25,
     "metadata": {},
     "output_type": "execute_result"
    }
   ],
   "source": [
    "min(df_ip['ClaimStartDt'])\n"
   ]
  },
  {
   "cell_type": "code",
   "execution_count": 26,
   "metadata": {},
   "outputs": [
    {
     "data": {
      "text/plain": [
       "'2009-12-31'"
      ]
     },
     "execution_count": 26,
     "metadata": {},
     "output_type": "execute_result"
    }
   ],
   "source": [
    "max(df_ip['ClaimStartDt'])"
   ]
  },
  {
   "cell_type": "code",
   "execution_count": 27,
   "metadata": {},
   "outputs": [
    {
     "data": {
      "text/plain": [
       "'2008-12-12'"
      ]
     },
     "execution_count": 27,
     "metadata": {},
     "output_type": "execute_result"
    }
   ],
   "source": [
    "min(df_op['ClaimStartDt'])"
   ]
  },
  {
   "cell_type": "code",
   "execution_count": 28,
   "metadata": {},
   "outputs": [
    {
     "data": {
      "text/plain": [
       "'2009-12-31'"
      ]
     },
     "execution_count": 28,
     "metadata": {},
     "output_type": "execute_result"
    }
   ],
   "source": [
    "max(df_op['ClaimStartDt'])"
   ]
  },
  {
   "cell_type": "code",
   "execution_count": 29,
   "metadata": {},
   "outputs": [
    {
     "data": {
      "text/plain": [
       "(40474, 30)"
      ]
     },
     "execution_count": 29,
     "metadata": {},
     "output_type": "execute_result"
    }
   ],
   "source": [
    "df_ip.shape\n"
   ]
  },
  {
   "cell_type": "code",
   "execution_count": 30,
   "metadata": {},
   "outputs": [
    {
     "data": {
      "text/plain": [
       "(517737, 27)"
      ]
     },
     "execution_count": 30,
     "metadata": {},
     "output_type": "execute_result"
    }
   ],
   "source": [
    "df_op.shape"
   ]
  },
  {
   "cell_type": "code",
   "execution_count": 31,
   "metadata": {},
   "outputs": [
    {
     "data": {
      "text/plain": [
       "(138556, 25)"
      ]
     },
     "execution_count": 31,
     "metadata": {},
     "output_type": "execute_result"
    }
   ],
   "source": [
    "df_p.shape"
   ]
  },
  {
   "cell_type": "code",
   "execution_count": 32,
   "metadata": {},
   "outputs": [
    {
     "data": {
      "text/plain": [
       "(5410, 2)"
      ]
     },
     "execution_count": 32,
     "metadata": {},
     "output_type": "execute_result"
    }
   ],
   "source": [
    "flags.shape"
   ]
  },
  {
   "cell_type": "code",
   "execution_count": 33,
   "metadata": {},
   "outputs": [
    {
     "data": {
      "text/html": [
       "<div>\n",
       "<style scoped>\n",
       "    .dataframe tbody tr th:only-of-type {\n",
       "        vertical-align: middle;\n",
       "    }\n",
       "\n",
       "    .dataframe tbody tr th {\n",
       "        vertical-align: top;\n",
       "    }\n",
       "\n",
       "    .dataframe thead th {\n",
       "        text-align: right;\n",
       "    }\n",
       "</style>\n",
       "<table border=\"1\" class=\"dataframe\">\n",
       "  <thead>\n",
       "    <tr style=\"text-align: right;\">\n",
       "      <th></th>\n",
       "      <th>Provider</th>\n",
       "      <th>PotentialFraud</th>\n",
       "    </tr>\n",
       "  </thead>\n",
       "  <tbody>\n",
       "    <tr>\n",
       "      <th>count</th>\n",
       "      <td>5410</td>\n",
       "      <td>5410</td>\n",
       "    </tr>\n",
       "    <tr>\n",
       "      <th>unique</th>\n",
       "      <td>5410</td>\n",
       "      <td>2</td>\n",
       "    </tr>\n",
       "    <tr>\n",
       "      <th>top</th>\n",
       "      <td>PRV51260</td>\n",
       "      <td>No</td>\n",
       "    </tr>\n",
       "    <tr>\n",
       "      <th>freq</th>\n",
       "      <td>1</td>\n",
       "      <td>4904</td>\n",
       "    </tr>\n",
       "  </tbody>\n",
       "</table>\n",
       "</div>"
      ],
      "text/plain": [
       "        Provider PotentialFraud\n",
       "count       5410           5410\n",
       "unique      5410              2\n",
       "top     PRV51260             No\n",
       "freq           1           4904"
      ]
     },
     "execution_count": 33,
     "metadata": {},
     "output_type": "execute_result"
    }
   ],
   "source": [
    "flags.describe()"
   ]
  },
  {
   "cell_type": "code",
   "execution_count": 34,
   "metadata": {},
   "outputs": [
    {
     "data": {
      "text/plain": [
       "No     4904\n",
       "Yes     506\n",
       "Name: PotentialFraud, dtype: int64"
      ]
     },
     "execution_count": 34,
     "metadata": {},
     "output_type": "execute_result"
    }
   ],
   "source": [
    "flags['PotentialFraud'].value_counts()"
   ]
  },
  {
   "cell_type": "code",
   "execution_count": 35,
   "metadata": {},
   "outputs": [
    {
     "name": "stdout",
     "output_type": "stream",
     "text": [
      "Provider          0.00000\n",
      "PotentialFraud    0.09353\n",
      "dtype: float64\n"
     ]
    }
   ],
   "source": [
    "print(flags[flags == 'Yes'].count(axis = 0)/len(flags.index))"
   ]
  },
  {
   "cell_type": "code",
   "execution_count": 36,
   "metadata": {},
   "outputs": [
    {
     "data": {
      "text/plain": [
       "2092"
      ]
     },
     "execution_count": 36,
     "metadata": {},
     "output_type": "execute_result"
    }
   ],
   "source": [
    "df_ip['Provider'].nunique()"
   ]
  },
  {
   "cell_type": "code",
   "execution_count": 16,
   "metadata": {},
   "outputs": [
    {
     "data": {
      "text/plain": [
       "1259"
      ]
     },
     "execution_count": 16,
     "metadata": {},
     "output_type": "execute_result"
    }
   ],
   "source": [
    "df_op['Provider'].nunique()"
   ]
  },
  {
   "cell_type": "code",
   "execution_count": 17,
   "metadata": {},
   "outputs": [
    {
     "data": {
      "text/plain": [
       "ClmProcedureCode_6        9551\n",
       "ClmProcedureCode_5        9549\n",
       "ClmProcedureCode_4        9522\n",
       "ClmProcedureCode_3        9328\n",
       "ClmDiagnosisCode_10       8664\n",
       "OtherPhysician            8538\n",
       "ClmProcedureCode_2        8297\n",
       "ClmProcedureCode_1        4118\n",
       "OperatingPhysician        3962\n",
       "ClmDiagnosisCode_9        3238\n",
       "ClmDiagnosisCode_8        2360\n",
       "ClmDiagnosisCode_7        1736\n",
       "ClmDiagnosisCode_6        1197\n",
       "ClmDiagnosisCode_5         719\n",
       "ClmDiagnosisCode_4         404\n",
       "DeductibleAmtPaid          196\n",
       "ClmDiagnosisCode_3         169\n",
       "ClmDiagnosisCode_2          54\n",
       "AttendingPhysician          31\n",
       "ClaimID                      0\n",
       "ClaimStartDt                 0\n",
       "ClaimEndDt                   0\n",
       "Provider                     0\n",
       "InscClaimAmtReimbursed       0\n",
       "ClmDiagnosisCode_1           0\n",
       "AdmissionDt                  0\n",
       "ClmAdmitDiagnosisCode        0\n",
       "DischargeDt                  0\n",
       "DiagnosisGroupCode           0\n",
       "BeneID                       0\n",
       "dtype: int64"
      ]
     },
     "execution_count": 17,
     "metadata": {},
     "output_type": "execute_result"
    }
   ],
   "source": [
    "df_ip.isnull().sum().sort_values(ascending = False)"
   ]
  },
  {
   "cell_type": "code",
   "execution_count": 18,
   "metadata": {},
   "outputs": [
    {
     "data": {
      "text/plain": [
       "ClmProcedureCode_6        125841\n",
       "ClmProcedureCode_5        125841\n",
       "ClmProcedureCode_4        125841\n",
       "ClmProcedureCode_3        125839\n",
       "ClmProcedureCode_2        125832\n",
       "ClmProcedureCode_1        125807\n",
       "ClmDiagnosisCode_10       125578\n",
       "ClmDiagnosisCode_9        122278\n",
       "ClmDiagnosisCode_8        120310\n",
       "ClmDiagnosisCode_7        117871\n",
       "ClmDiagnosisCode_6        114035\n",
       "ClmDiagnosisCode_5        107875\n",
       "OperatingPhysician        104237\n",
       "ClmAdmitDiagnosisCode     100036\n",
       "ClmDiagnosisCode_4         95371\n",
       "OtherPhysician             78222\n",
       "ClmDiagnosisCode_3         76575\n",
       "ClmDiagnosisCode_2         47731\n",
       "ClmDiagnosisCode_1          2578\n",
       "AttendingPhysician           316\n",
       "DeductibleAmtPaid              0\n",
       "InscClaimAmtReimbursed         0\n",
       "Provider                       0\n",
       "ClaimEndDt                     0\n",
       "ClaimStartDt                   0\n",
       "ClaimID                        0\n",
       "BeneID                         0\n",
       "dtype: int64"
      ]
     },
     "execution_count": 18,
     "metadata": {},
     "output_type": "execute_result"
    }
   ],
   "source": [
    "df_op.isnull().sum().sort_values(ascending = False)"
   ]
  },
  {
   "cell_type": "code",
   "execution_count": 37,
   "metadata": {},
   "outputs": [
    {
     "data": {
      "text/plain": [
       "DOD                                137135\n",
       "OPAnnualDeductibleAmt                   0\n",
       "ChronicCond_Heartfailure                0\n",
       "DOB                                     0\n",
       "Gender                                  0\n",
       "Race                                    0\n",
       "RenalDiseaseIndicator                   0\n",
       "State                                   0\n",
       "County                                  0\n",
       "NoOfMonths_PartACov                     0\n",
       "NoOfMonths_PartBCov                     0\n",
       "ChronicCond_Alzheimer                   0\n",
       "ChronicCond_KidneyDisease               0\n",
       "OPAnnualReimbursementAmt                0\n",
       "ChronicCond_Cancer                      0\n",
       "ChronicCond_ObstrPulmonary              0\n",
       "ChronicCond_Depression                  0\n",
       "ChronicCond_Diabetes                    0\n",
       "ChronicCond_IschemicHeart               0\n",
       "ChronicCond_Osteoporasis                0\n",
       "ChronicCond_rheumatoidarthritis         0\n",
       "ChronicCond_stroke                      0\n",
       "IPAnnualReimbursementAmt                0\n",
       "IPAnnualDeductibleAmt                   0\n",
       "BeneID                                  0\n",
       "dtype: int64"
      ]
     },
     "execution_count": 37,
     "metadata": {},
     "output_type": "execute_result"
    }
   ],
   "source": [
    "df_p.isnull().sum().sort_values(ascending = False)"
   ]
  },
  {
   "cell_type": "code",
   "execution_count": 38,
   "metadata": {},
   "outputs": [
    {
     "data": {
      "text/plain": [
       "PotentialFraud    0\n",
       "Provider          0\n",
       "dtype: int64"
      ]
     },
     "execution_count": 38,
     "metadata": {},
     "output_type": "execute_result"
    }
   ],
   "source": [
    "flags.isnull().sum().sort_values(ascending = False)"
   ]
  },
  {
   "cell_type": "code",
   "execution_count": null,
   "metadata": {},
   "outputs": [],
   "source": []
  }
 ],
 "metadata": {
  "kernelspec": {
   "display_name": "Python 3",
   "language": "python",
   "name": "python3"
  },
  "language_info": {
   "codemirror_mode": {
    "name": "ipython",
    "version": 3
   },
   "file_extension": ".py",
   "mimetype": "text/x-python",
   "name": "python",
   "nbconvert_exporter": "python",
   "pygments_lexer": "ipython3",
   "version": "3.8.1"
  }
 },
 "nbformat": 4,
 "nbformat_minor": 4
}
