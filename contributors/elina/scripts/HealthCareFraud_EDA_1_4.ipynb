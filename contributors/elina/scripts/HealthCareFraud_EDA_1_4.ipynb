{
 "cells": [
  {
   "cell_type": "markdown",
   "metadata": {},
   "source": [
    "# Health Care Fraud Detection "
   ]
  },
  {
   "cell_type": "markdown",
   "metadata": {},
   "source": [
    "## Part I. Exploratory Data Analysis "
   ]
  },
  {
   "cell_type": "code",
   "execution_count": 1,
   "metadata": {},
   "outputs": [],
   "source": [
    "from __future__ import print_function\n",
    "\n",
    "import numpy as np\n",
    "import pandas as pd\n",
    "\n",
    "from datetime import datetime\n",
    "\n",
    "import networkx as nx\n",
    "\n",
    "import matplotlib.pyplot as plt\n",
    "%matplotlib inline\n",
    "plt.style.use('ggplot')\n",
    "\n",
    "import seaborn as sns\n"
   ]
  },
  {
   "cell_type": "code",
   "execution_count": 2,
   "metadata": {},
   "outputs": [],
   "source": [
    "df_ip = pd.read_csv('../../../raw_data/Train_Inpatientdata-1542865627584.csv')\n",
    "\n",
    "df_op = pd.read_csv('../../../raw_data/Train_Outpatientdata-1542865627584.csv')\n",
    "\n",
    "df_p = pd.read_csv('../../../raw_data/Train_Beneficiarydata-1542865627584.csv')\n",
    "\n",
    "flags = pd.read_csv('../../../raw_data/Train-1542865627584.csv')\n",
    "\n",
    "\n"
   ]
  },
  {
   "cell_type": "code",
   "execution_count": 3,
   "metadata": {},
   "outputs": [],
   "source": [
    "df_ip_test = pd.read_csv('../../../raw_data/Test_Inpatientdata-1542969243754.csv')\n",
    "\n",
    "df_op_test = pd.read_csv('../../../raw_data/Test_Outpatientdata-1542969243754.csv')\n",
    "\n",
    "df_p_test = pd.read_csv('../../../raw_data/Test_Beneficiarydata-1542969243754.csv')\n",
    "\n",
    "test = pd.read_csv('../../../raw_data/Test-1542969243754.csv')"
   ]
  },
  {
   "cell_type": "markdown",
   "metadata": {},
   "source": [
    "### Preliminary analysis of the datasets"
   ]
  },
  {
   "cell_type": "code",
   "execution_count": 4,
   "metadata": {},
   "outputs": [
    {
     "name": "stdout",
     "output_type": "stream",
     "text": [
      "Shape of the train IP dataset:  (40474, 30)\n",
      "Shape of the train OP dataset:  (517737, 27)\n",
      "Shape of the train Patients dataset:  (138556, 25)\n",
      "Shape of the train Flags dataset:  (5410, 2)\n"
     ]
    }
   ],
   "source": [
    "print ('Shape of the train IP dataset: ', df_ip.shape)\n",
    "print ('Shape of the train OP dataset: ',df_op.shape)\n",
    "print ('Shape of the train Patients dataset: ', df_p.shape)\n",
    "print ('Shape of the train Flags dataset: ', flags.shape)"
   ]
  },
  {
   "cell_type": "code",
   "execution_count": 5,
   "metadata": {},
   "outputs": [
    {
     "name": "stdout",
     "output_type": "stream",
     "text": [
      "Shape of the test IP dataset:  (9551, 30)\n",
      "Shape of the test OP dataset:  (125841, 27)\n",
      "Shape of the test Patients dataset:  (63968, 25)\n",
      "Shape of the test No Flags dataset:  (1353, 1)\n"
     ]
    }
   ],
   "source": [
    "print ('Shape of the test IP dataset: ', df_ip_test.shape)\n",
    "print ('Shape of the test OP dataset: ',df_op_test.shape)\n",
    "print ('Shape of the test Patients dataset: ', df_p_test.shape)\n",
    "print ('Shape of the test No Flags dataset: ', test.shape)"
   ]
  },
  {
   "cell_type": "code",
   "execution_count": 6,
   "metadata": {},
   "outputs": [
    {
     "name": "stdout",
     "output_type": "stream",
     "text": [
      "ClaimStartDt in train IP dataset range from  2008-11-27 to  2009-12-31\n",
      "ClaimStartDt in train OP dataset range from  2008-12-12 to  2009-12-31\n",
      "ClaimStartDt in test IP dataset range from  2008-11-27 to  2009-12-31\n",
      "ClaimStartDt in test OP dataset range from  2008-12-12 to  2009-12-31\n"
     ]
    }
   ],
   "source": [
    "print ('ClaimStartDt in train IP dataset range from ', \\\n",
    "      min(df_ip['ClaimStartDt']), 'to ', max(df_ip['ClaimStartDt']))\n",
    "print ('ClaimStartDt in train OP dataset range from ', \\\n",
    "      min(df_op['ClaimStartDt']), 'to ', max(df_op['ClaimStartDt']))\n",
    "print ('ClaimStartDt in test IP dataset range from ', \\\n",
    "      min(df_ip_test['ClaimStartDt']), 'to ', max(df_ip_test['ClaimStartDt']))\n",
    "print ('ClaimStartDt in test OP dataset range from ', \\\n",
    "      min(df_op_test['ClaimStartDt']), 'to ', max(df_op_test['ClaimStartDt']))"
   ]
  },
  {
   "cell_type": "markdown",
   "metadata": {},
   "source": [
    "Let's have a closer look at the flag dataset - for each provider in inpatient and outpatient train datasets, it says whether or not it is flagged as a potential fraud. "
   ]
  },
  {
   "cell_type": "code",
   "execution_count": 7,
   "metadata": {},
   "outputs": [
    {
     "data": {
      "text/plain": [
       "No     4904\n",
       "Yes     506\n",
       "Name: PotentialFraud, dtype: int64"
      ]
     },
     "execution_count": 7,
     "metadata": {},
     "output_type": "execute_result"
    }
   ],
   "source": [
    "flags['PotentialFraud'].value_counts()"
   ]
  },
  {
   "cell_type": "code",
   "execution_count": 7,
   "metadata": {},
   "outputs": [
    {
     "name": "stdout",
     "output_type": "stream",
     "text": [
      "The number of providers flagged as potential fraud providers is  506\n",
      "The number of providers flagged as no fraud providers is  4904\n"
     ]
    }
   ],
   "source": [
    "print('The number of providers flagged as potential fraud providers is ',\\\n",
    "     sum(flags['PotentialFraud']=='Yes'))\n",
    "\n",
    "print('The number of providers flagged as no fraud providers is ',\\\n",
    "     sum(flags['PotentialFraud']=='No'))"
   ]
  },
  {
   "cell_type": "code",
   "execution_count": 8,
   "metadata": {},
   "outputs": [
    {
     "name": "stdout",
     "output_type": "stream",
     "text": [
      "Provider          0.00000\n",
      "PotentialFraud    0.09353\n",
      "dtype: float64\n"
     ]
    }
   ],
   "source": [
    "print(flags[flags == 'Yes'].count(axis = 0)/len(flags.index))"
   ]
  },
  {
   "cell_type": "markdown",
   "metadata": {},
   "source": [
    "## Warmup Question 1: "
   ]
  },
  {
   "cell_type": "markdown",
   "metadata": {},
   "source": [
    "1. How many medical doctors are there in the train outpatient dataset?"
   ]
  },
  {
   "cell_type": "code",
   "execution_count": 9,
   "metadata": {},
   "outputs": [
    {
     "name": "stdout",
     "output_type": "stream",
     "text": [
      "The number of attending physicians in the train OP:  74109\n",
      "The number of operating physicians in the train OP:  28532\n",
      "The number of extra physicians in the train OP:  44388\n"
     ]
    }
   ],
   "source": [
    "print('The number of attending physicians in the train OP: ', \\\n",
    "      df_op['AttendingPhysician'].nunique())\n",
    "print('The number of operating physicians in the train OP: ', \\\n",
    "      df_op['OperatingPhysician'].nunique())\n",
    "print('The number of extra physicians in the train OP: ', \\\n",
    "      df_op['OtherPhysician'].nunique())"
   ]
  },
  {
   "cell_type": "markdown",
   "metadata": {},
   "source": [
    "2. How many medical doctors are there in the train inpatient dataset? Do they match with those from the outpatient record?"
   ]
  },
  {
   "cell_type": "code",
   "execution_count": 10,
   "metadata": {},
   "outputs": [
    {
     "name": "stdout",
     "output_type": "stream",
     "text": [
      "The number of attending physicians in the train IP:  11604\n",
      "The number of operating physicians in the train IP:  8287\n",
      "The number of extra physicians in the train IP:  2877\n"
     ]
    }
   ],
   "source": [
    "print('The number of attending physicians in the train IP: ', \\\n",
    "      df_ip['AttendingPhysician'].nunique())\n",
    "print('The number of operating physicians in the train IP: ', \\\n",
    "      df_ip['OperatingPhysician'].nunique())\n",
    "print('The number of extra physicians in the train IP: ', \\\n",
    "      df_ip['OtherPhysician'].nunique())"
   ]
  },
  {
   "cell_type": "code",
   "execution_count": 12,
   "metadata": {},
   "outputs": [
    {
     "data": {
      "text/plain": [
       "count        516341\n",
       "unique        74109\n",
       "top       PHY330576\n",
       "freq           2534\n",
       "Name: AttendingPhysician, dtype: object"
      ]
     },
     "execution_count": 12,
     "metadata": {},
     "output_type": "execute_result"
    }
   ],
   "source": [
    "df_op['AttendingPhysician'].describe()"
   ]
  },
  {
   "cell_type": "code",
   "execution_count": 13,
   "metadata": {},
   "outputs": [
    {
     "data": {
      "text/plain": [
       "count         40362\n",
       "unique        11604\n",
       "top       PHY422134\n",
       "freq            386\n",
       "Name: AttendingPhysician, dtype: object"
      ]
     },
     "execution_count": 13,
     "metadata": {},
     "output_type": "execute_result"
    }
   ],
   "source": [
    "df_ip['AttendingPhysician'].describe()"
   ]
  },
  {
   "cell_type": "code",
   "execution_count": 14,
   "metadata": {},
   "outputs": [
    {
     "data": {
      "text/plain": [
       "count         90617\n",
       "unique        28532\n",
       "top       PHY330576\n",
       "freq            424\n",
       "Name: OperatingPhysician, dtype: object"
      ]
     },
     "execution_count": 14,
     "metadata": {},
     "output_type": "execute_result"
    }
   ],
   "source": [
    "df_op['OperatingPhysician'].describe()"
   ]
  },
  {
   "cell_type": "code",
   "execution_count": 15,
   "metadata": {},
   "outputs": [
    {
     "data": {
      "text/plain": [
       "count         23830\n",
       "unique         8287\n",
       "top       PHY429430\n",
       "freq            225\n",
       "Name: OperatingPhysician, dtype: object"
      ]
     },
     "execution_count": 15,
     "metadata": {},
     "output_type": "execute_result"
    }
   ],
   "source": [
    "df_ip['OperatingPhysician'].describe()"
   ]
  },
  {
   "cell_type": "code",
   "execution_count": 16,
   "metadata": {},
   "outputs": [
    {
     "data": {
      "text/plain": [
       "count        195046\n",
       "unique        44388\n",
       "top       PHY412132\n",
       "freq           1247\n",
       "Name: OtherPhysician, dtype: object"
      ]
     },
     "execution_count": 16,
     "metadata": {},
     "output_type": "execute_result"
    }
   ],
   "source": [
    "df_op['OtherPhysician'].describe()"
   ]
  },
  {
   "cell_type": "code",
   "execution_count": 17,
   "metadata": {},
   "outputs": [
    {
     "data": {
      "text/plain": [
       "count          4690\n",
       "unique         2877\n",
       "top       PHY416093\n",
       "freq             81\n",
       "Name: OtherPhysician, dtype: object"
      ]
     },
     "execution_count": 17,
     "metadata": {},
     "output_type": "execute_result"
    }
   ],
   "source": [
    "df_ip['OtherPhysician'].describe()"
   ]
  },
  {
   "cell_type": "markdown",
   "metadata": {},
   "source": [
    "3. Do those inpatient patients show worse health conditions (in terms of chronic diseases) than typical outpatient patients, or do those who have more visits to the providers have worse health conditions? Provide an analysis on these issues."
   ]
  },
  {
   "cell_type": "code",
   "execution_count": 11,
   "metadata": {},
   "outputs": [
    {
     "data": {
      "text/plain": [
       "ClmProcedureCode_6        100.000000\n",
       "ClmProcedureCode_5         99.977764\n",
       "ClmProcedureCode_4         99.713396\n",
       "ClmProcedureCode_3         97.615753\n",
       "ClmDiagnosisCode_10        90.297475\n",
       "OtherPhysician             88.412314\n",
       "ClmProcedureCode_2         86.524683\n",
       "ClmProcedureCode_1         42.807728\n",
       "OperatingPhysician         41.122696\n",
       "ClmDiagnosisCode_9         33.347334\n",
       "ClmDiagnosisCode_8         24.563918\n",
       "ClmDiagnosisCode_7         17.932500\n",
       "ClmDiagnosisCode_6         11.953353\n",
       "ClmDiagnosisCode_5          7.150269\n",
       "ClmDiagnosisCode_4          3.790087\n",
       "DeductibleAmtPaid           2.221179\n",
       "ClmDiagnosisCode_3          1.670208\n",
       "ClmDiagnosisCode_2          0.558383\n",
       "AttendingPhysician          0.276721\n",
       "ClaimID                     0.000000\n",
       "ClaimStartDt                0.000000\n",
       "ClaimEndDt                  0.000000\n",
       "Provider                    0.000000\n",
       "InscClaimAmtReimbursed      0.000000\n",
       "ClmDiagnosisCode_1          0.000000\n",
       "AdmissionDt                 0.000000\n",
       "ClmAdmitDiagnosisCode       0.000000\n",
       "DischargeDt                 0.000000\n",
       "DiagnosisGroupCode          0.000000\n",
       "BeneID                      0.000000\n",
       "dtype: float64"
      ]
     },
     "execution_count": 11,
     "metadata": {},
     "output_type": "execute_result"
    }
   ],
   "source": [
    "(df_ip.isnull().sum()*100/len(df_ip)).sort_values(ascending = False)"
   ]
  },
  {
   "cell_type": "code",
   "execution_count": 12,
   "metadata": {},
   "outputs": [
    {
     "data": {
      "text/plain": [
       "ClmProcedureCode_6        100.000000\n",
       "ClmProcedureCode_5        100.000000\n",
       "ClmProcedureCode_4         99.999614\n",
       "ClmProcedureCode_3         99.999227\n",
       "ClmProcedureCode_2         99.993047\n",
       "ClmProcedureCode_1         99.968710\n",
       "ClmDiagnosisCode_10        99.790820\n",
       "ClmDiagnosisCode_9         97.134066\n",
       "ClmDiagnosisCode_8         95.574587\n",
       "ClmDiagnosisCode_7         93.633640\n",
       "ClmDiagnosisCode_6         90.582864\n",
       "ClmDiagnosisCode_5         85.640586\n",
       "OperatingPhysician         82.497484\n",
       "ClmAdmitDiagnosisCode      79.637345\n",
       "ClmDiagnosisCode_4         75.741351\n",
       "OtherPhysician             62.327205\n",
       "ClmDiagnosisCode_3         60.741264\n",
       "ClmDiagnosisCode_2         37.737307\n",
       "ClmDiagnosisCode_1          2.018979\n",
       "AttendingPhysician          0.269635\n",
       "DeductibleAmtPaid           0.000000\n",
       "InscClaimAmtReimbursed      0.000000\n",
       "Provider                    0.000000\n",
       "ClaimEndDt                  0.000000\n",
       "ClaimStartDt                0.000000\n",
       "ClaimID                     0.000000\n",
       "BeneID                      0.000000\n",
       "dtype: float64"
      ]
     },
     "execution_count": 12,
     "metadata": {},
     "output_type": "execute_result"
    }
   ],
   "source": [
    "(df_op.isnull().sum()*100/len(df_op)).sort_values(ascending = False)"
   ]
  },
  {
   "cell_type": "markdown",
   "metadata": {},
   "source": [
    "Comparing the values for Claim Diagnosis Codes from 1 to 10, we observe that inpatient patients have more diseases than outpatients. "
   ]
  },
  {
   "cell_type": "markdown",
   "metadata": {},
   "source": [
    "4. How many distinct patients (BeneIDs) are there in the in/out-patient datasets?"
   ]
  },
  {
   "cell_type": "code",
   "execution_count": 20,
   "metadata": {},
   "outputs": [
    {
     "name": "stdout",
     "output_type": "stream",
     "text": [
      "The number of distinct patients in the train IP dataset:  31289\n",
      "The number of distinct patients in the train OP dataset:  133980\n",
      "The number of distinct patients in the test IP dataset:  8351\n",
      "The number of distinct patients in the test IP dataset:  59608\n"
     ]
    }
   ],
   "source": [
    "print('The number of distinct patients in the train IP dataset: ', \\\n",
    "     df_ip['BeneID'].nunique())\n",
    "print('The number of distinct patients in the train OP dataset: ', \\\n",
    "     df_op['BeneID'].nunique())\n",
    "print('The number of distinct patients in the test IP dataset: ', \\\n",
    "     df_ip_test['BeneID'].nunique())\n",
    "print('The number of distinct patients in the test IP dataset: ', \\\n",
    "     df_op_test['BeneID'].nunique())"
   ]
  },
  {
   "cell_type": "markdown",
   "metadata": {},
   "source": [
    "5. Do doctors serve for different providers? Study the distribution of hospital counts/doctor? Is it possible to characterize those doctors who move around among different providers?"
   ]
  },
  {
   "cell_type": "code",
   "execution_count": 14,
   "metadata": {},
   "outputs": [
    {
     "data": {
      "text/plain": [
       "AttendingPhysician\n",
       "PHY395862    3\n",
       "PHY423850    3\n",
       "PHY359004    3\n",
       "PHY386600    3\n",
       "PHY421048    3\n",
       "PHY361980    2\n",
       "PHY390094    2\n",
       "PHY313567    2\n",
       "PHY369659    2\n",
       "PHY332933    2\n",
       "PHY415913    2\n",
       "PHY347943    2\n",
       "PHY416042    2\n",
       "PHY378970    2\n",
       "PHY347916    2\n",
       "PHY347859    2\n",
       "PHY386022    2\n",
       "PHY393744    2\n",
       "PHY321589    2\n",
       "PHY354222    2\n",
       "PHY396839    2\n",
       "PHY333112    2\n",
       "PHY378514    2\n",
       "PHY339652    2\n",
       "PHY358399    2\n",
       "PHY339550    2\n",
       "PHY332787    2\n",
       "PHY431514    2\n",
       "PHY350822    2\n",
       "PHY378402    2\n",
       "            ..\n",
       "PHY392912    1\n",
       "PHY392904    1\n",
       "PHY392903    1\n",
       "PHY392881    1\n",
       "PHY392871    1\n",
       "PHY392868    1\n",
       "PHY392861    1\n",
       "PHY393045    1\n",
       "PHY393064    1\n",
       "PHY393306    1\n",
       "PHY393193    1\n",
       "PHY393304    1\n",
       "PHY393302    1\n",
       "PHY393301    1\n",
       "PHY393297    1\n",
       "PHY393293    1\n",
       "PHY393290    1\n",
       "PHY393266    1\n",
       "PHY393247    1\n",
       "PHY393187    1\n",
       "PHY393066    1\n",
       "PHY393162    1\n",
       "PHY393153    1\n",
       "PHY393145    1\n",
       "PHY393132    1\n",
       "PHY393107    1\n",
       "PHY393087    1\n",
       "PHY393075    1\n",
       "PHY393072    1\n",
       "PHY311002    1\n",
       "Name: Provider, Length: 11604, dtype: int64"
      ]
     },
     "execution_count": 14,
     "metadata": {},
     "output_type": "execute_result"
    }
   ],
   "source": [
    "df_ip.groupby('AttendingPhysician')['Provider'].nunique().sort_values(ascending = False)"
   ]
  },
  {
   "cell_type": "code",
   "execution_count": 22,
   "metadata": {},
   "outputs": [
    {
     "data": {
      "text/plain": [
       "1    11409\n",
       "2      190\n",
       "3        5\n",
       "Name: Provider, dtype: int64"
      ]
     },
     "execution_count": 22,
     "metadata": {},
     "output_type": "execute_result"
    }
   ],
   "source": [
    "df_ip.groupby('AttendingPhysician')['Provider'].nunique().value_counts()"
   ]
  },
  {
   "cell_type": "code",
   "execution_count": 23,
   "metadata": {},
   "outputs": [
    {
     "data": {
      "text/plain": [
       "AttendingPhysician\n",
       "PHY365132    8\n",
       "PHY342165    8\n",
       "PHY417254    7\n",
       "PHY332314    6\n",
       "PHY389249    6\n",
       "            ..\n",
       "PHY391679    1\n",
       "PHY391678    1\n",
       "PHY391677    1\n",
       "PHY391675    1\n",
       "PHY311001    1\n",
       "Name: Provider, Length: 74109, dtype: int64"
      ]
     },
     "execution_count": 23,
     "metadata": {},
     "output_type": "execute_result"
    }
   ],
   "source": [
    "df_op.groupby('AttendingPhysician')['Provider'].nunique().sort_values(ascending = False)"
   ]
  },
  {
   "cell_type": "code",
   "execution_count": 24,
   "metadata": {},
   "outputs": [
    {
     "data": {
      "text/plain": [
       "1    69523\n",
       "2     4145\n",
       "3      349\n",
       "4       63\n",
       "5       18\n",
       "6        8\n",
       "8        2\n",
       "7        1\n",
       "Name: Provider, dtype: int64"
      ]
     },
     "execution_count": 24,
     "metadata": {},
     "output_type": "execute_result"
    }
   ],
   "source": [
    "df_op.groupby('AttendingPhysician')['Provider'].nunique().value_counts()"
   ]
  },
  {
   "cell_type": "markdown",
   "metadata": {},
   "source": [
    "Clearly, there are many more doctors on the OP dataset that serve more than one provider than those on the IP dataset. "
   ]
  },
  {
   "cell_type": "markdown",
   "metadata": {},
   "source": [
    "6. Do patients go to different hospitals? Study the distribution of hospital counts/patient? It is possible to characterize those patients who receive services from a lot of different hospitals?"
   ]
  },
  {
   "cell_type": "code",
   "execution_count": 25,
   "metadata": {},
   "outputs": [
    {
     "data": {
      "text/plain": [
       "BeneID\n",
       "BENE49263     5\n",
       "BENE63935     5\n",
       "BENE83032     5\n",
       "BENE55497     5\n",
       "BENE152105    5\n",
       "             ..\n",
       "BENE46939     1\n",
       "BENE46956     1\n",
       "BENE46971     1\n",
       "BENE46975     1\n",
       "BENE100002    1\n",
       "Name: Provider, Length: 31289, dtype: int64"
      ]
     },
     "execution_count": 25,
     "metadata": {},
     "output_type": "execute_result"
    }
   ],
   "source": [
    "df_ip.groupby('BeneID')['Provider'].nunique().sort_values(ascending = False)"
   ]
  },
  {
   "cell_type": "code",
   "execution_count": 26,
   "metadata": {},
   "outputs": [
    {
     "data": {
      "text/plain": [
       "1    26694\n",
       "2     3965\n",
       "3      541\n",
       "4       76\n",
       "5       13\n",
       "Name: Provider, dtype: int64"
      ]
     },
     "execution_count": 26,
     "metadata": {},
     "output_type": "execute_result"
    }
   ],
   "source": [
    "df_ip.groupby('BeneID')['Provider'].nunique().value_counts()"
   ]
  },
  {
   "cell_type": "code",
   "execution_count": 27,
   "metadata": {},
   "outputs": [
    {
     "data": {
      "text/plain": [
       "BeneID\n",
       "BENE40202     19\n",
       "BENE122143    17\n",
       "BENE122118    16\n",
       "BENE120090    16\n",
       "BENE140999    16\n",
       "              ..\n",
       "BENE16458      1\n",
       "BENE16456      1\n",
       "BENE16455      1\n",
       "BENE16450      1\n",
       "BENE100000     1\n",
       "Name: Provider, Length: 133980, dtype: int64"
      ]
     },
     "execution_count": 27,
     "metadata": {},
     "output_type": "execute_result"
    }
   ],
   "source": [
    "df_op.groupby('BeneID')['Provider'].nunique().sort_values(ascending = False)"
   ]
  },
  {
   "cell_type": "code",
   "execution_count": 28,
   "metadata": {},
   "outputs": [
    {
     "data": {
      "text/plain": [
       "1     49671\n",
       "2     34432\n",
       "3     21370\n",
       "4     12646\n",
       "5      7168\n",
       "6      3992\n",
       "7      2277\n",
       "8      1192\n",
       "9       610\n",
       "10      288\n",
       "11      177\n",
       "12       89\n",
       "13       39\n",
       "14       12\n",
       "15       11\n",
       "16        4\n",
       "17        1\n",
       "19        1\n",
       "Name: Provider, dtype: int64"
      ]
     },
     "execution_count": 28,
     "metadata": {},
     "output_type": "execute_result"
    }
   ],
   "source": [
    "df_op.groupby('BeneID')['Provider'].nunique().value_counts()"
   ]
  },
  {
   "cell_type": "markdown",
   "metadata": {},
   "source": [
    "7. Do the same providers provide both inpatient and outpatient services? Summarize your finding."
   ]
  },
  {
   "cell_type": "code",
   "execution_count": 29,
   "metadata": {},
   "outputs": [
    {
     "data": {
      "text/plain": [
       "True     36727\n",
       "False     3747\n",
       "Name: Provider, dtype: int64"
      ]
     },
     "execution_count": 29,
     "metadata": {},
     "output_type": "execute_result"
    }
   ],
   "source": [
    "#not correct\n",
    "df_ip['Provider'].isin(df_op['Provider']).value_counts()"
   ]
  },
  {
   "cell_type": "code",
   "execution_count": 30,
   "metadata": {},
   "outputs": [
    {
     "data": {
      "text/plain": [
       "1694"
      ]
     },
     "execution_count": 30,
     "metadata": {},
     "output_type": "execute_result"
    }
   ],
   "source": [
    "len(set(df_op.Provider.to_list()).intersection(set(df_ip.Provider.to_list())))"
   ]
  },
  {
   "cell_type": "markdown",
   "metadata": {},
   "source": [
    "8. Do Some of the same patients receive both inpatient and outpatient services? Summarize your finding."
   ]
  },
  {
   "cell_type": "code",
   "execution_count": 31,
   "metadata": {},
   "outputs": [
    {
     "data": {
      "text/plain": [
       "True     35043\n",
       "False     5431\n",
       "Name: BeneID, dtype: int64"
      ]
     },
     "execution_count": 31,
     "metadata": {},
     "output_type": "execute_result"
    }
   ],
   "source": [
    "#not correct\n",
    "df_ip['BeneID'].isin(df_op['BeneID']).value_counts()"
   ]
  },
  {
   "cell_type": "code",
   "execution_count": 32,
   "metadata": {},
   "outputs": [
    {
     "data": {
      "text/plain": [
       "26713"
      ]
     },
     "execution_count": 32,
     "metadata": {},
     "output_type": "execute_result"
    }
   ],
   "source": [
    "len(set(df_op.BeneID.to_list()).intersection(set(df_ip.BeneID.to_list())))"
   ]
  },
  {
   "cell_type": "markdown",
   "metadata": {},
   "source": [
    "## Warmup Question 4:"
   ]
  },
  {
   "cell_type": "markdown",
   "metadata": {},
   "source": [
    "1. Study the distributions of InscClaimAmtReimbursed, DeductibleAmtPaid for both inpatient and outpatient services. Your team might want to work with hist, scatter or sns.pairplot, distplot, etc."
   ]
  },
  {
   "cell_type": "code",
   "execution_count": 33,
   "metadata": {},
   "outputs": [
    {
     "data": {
      "text/plain": [
       "count     40474.000000\n",
       "mean      10087.884074\n",
       "std       10303.099402\n",
       "min           0.000000\n",
       "25%        4000.000000\n",
       "50%        7000.000000\n",
       "75%       12000.000000\n",
       "max      125000.000000\n",
       "Name: InscClaimAmtReimbursed, dtype: float64"
      ]
     },
     "execution_count": 33,
     "metadata": {},
     "output_type": "execute_result"
    }
   ],
   "source": [
    "df_ip['InscClaimAmtReimbursed'].describe()"
   ]
  },
  {
   "cell_type": "code",
   "execution_count": 34,
   "metadata": {},
   "outputs": [
    {
     "data": {
      "text/plain": [
       "0    4000\n",
       "dtype: int64"
      ]
     },
     "execution_count": 34,
     "metadata": {},
     "output_type": "execute_result"
    }
   ],
   "source": [
    "df_ip['InscClaimAmtReimbursed'].mode()"
   ]
  },
  {
   "cell_type": "code",
   "execution_count": 35,
   "metadata": {},
   "outputs": [
    {
     "data": {
      "text/plain": [
       "count    39575.0\n",
       "mean      1068.0\n",
       "std          0.0\n",
       "min       1068.0\n",
       "25%       1068.0\n",
       "50%       1068.0\n",
       "75%       1068.0\n",
       "max       1068.0\n",
       "Name: DeductibleAmtPaid, dtype: float64"
      ]
     },
     "execution_count": 35,
     "metadata": {},
     "output_type": "execute_result"
    }
   ],
   "source": [
    "df_ip['DeductibleAmtPaid'].describe()"
   ]
  },
  {
   "cell_type": "code",
   "execution_count": 36,
   "metadata": {},
   "outputs": [
    {
     "data": {
      "text/plain": [
       "count    517737.000000\n",
       "mean        286.334799\n",
       "std         694.034343\n",
       "min           0.000000\n",
       "25%          40.000000\n",
       "50%          80.000000\n",
       "75%         200.000000\n",
       "max      102500.000000\n",
       "Name: InscClaimAmtReimbursed, dtype: float64"
      ]
     },
     "execution_count": 36,
     "metadata": {},
     "output_type": "execute_result"
    }
   ],
   "source": [
    "df_op['InscClaimAmtReimbursed'].describe()"
   ]
  },
  {
   "cell_type": "code",
   "execution_count": 37,
   "metadata": {},
   "outputs": [
    {
     "data": {
      "text/plain": [
       "count    517737.000000\n",
       "mean          2.779233\n",
       "std          15.785839\n",
       "min           0.000000\n",
       "25%           0.000000\n",
       "50%           0.000000\n",
       "75%           0.000000\n",
       "max         897.000000\n",
       "Name: DeductibleAmtPaid, dtype: float64"
      ]
     },
     "execution_count": 37,
     "metadata": {},
     "output_type": "execute_result"
    }
   ],
   "source": [
    "df_op['DeductibleAmtPaid'].describe()"
   ]
  },
  {
   "cell_type": "code",
   "execution_count": 15,
   "metadata": {},
   "outputs": [
    {
     "data": {
      "image/png": "[encoded data removed]",
      "text/plain": [
       "<Figure size 720x432 with 1 Axes>"
      ]
     },
     "metadata": {
      "needs_background": "light"
     },
     "output_type": "display_data"
    }
   ],
   "source": [
    "fig = plt.figure(figsize=(10,6))\n",
    "plt.hist(df_ip.InscClaimAmtReimbursed, bins = 20, range =[0,60000], \\\n",
    "         facecolor = 'b', edgecolor = 'k')\n",
    "plt.xlabel('InscClaimAmtReimbursed')\n",
    "plt.title('InscClaimAmtReimbursed distribution, IP')\n",
    "plt.show()\n",
    "plt."
   ]
  },
  {
   "cell_type": "code",
   "execution_count": 39,
   "metadata": {},
   "outputs": [
    {
     "data": {
      "image/png": "[encoded data removed]",
      "text/plain": [
       "<Figure size 720x432 with 1 Axes>"
      ]
     },
     "metadata": {},
     "output_type": "display_data"
    }
   ],
   "source": [
    "fig = plt.figure(figsize=(10,6))\n",
    "plt.hist(df_op.InscClaimAmtReimbursed, bins = 20, range =[0,5000], \\\n",
    "         facecolor = 'r', edgecolor = 'k')\n",
    "plt.xlabel('InscClaimAmtReimbursed')\n",
    "plt.title('InscClaimAmtReimbursed distribution, OP')\n",
    "plt.show()"
   ]
  },
  {
   "cell_type": "markdown",
   "metadata": {},
   "source": [
    "2. Study the distributions of insurance covered percentages InscClaimAmtReimbursed/(InscClaimAmtReimbursed+DeductibleAmtPaid)."
   ]
  },
  {
   "cell_type": "code",
   "execution_count": 40,
   "metadata": {},
   "outputs": [
    {
     "data": {
      "text/plain": [
       "0        0.96\n",
       "1        0.82\n",
       "2        0.82\n",
       "3        0.82\n",
       "4        0.90\n",
       "         ... \n",
       "40469    0.87\n",
       "40470    0.79\n",
       "40471    0.74\n",
       "40472    0.82\n",
       "40473    0.93\n",
       "Name: InscCoveredPerc, Length: 40474, dtype: float64"
      ]
     },
     "execution_count": 40,
     "metadata": {},
     "output_type": "execute_result"
    }
   ],
   "source": [
    "df_ip['InscCoveredPerc'] = df_ip['InscClaimAmtReimbursed']/(df_ip['InscClaimAmtReimbursed'] + \\\n",
    "                                                           df_ip['DeductibleAmtPaid'])\n",
    "df_ip['InscCoveredPerc'].round(2)"
   ]
  },
  {
   "cell_type": "code",
   "execution_count": 41,
   "metadata": {},
   "outputs": [
    {
     "data": {
      "text/plain": [
       "count    39575.000000\n",
       "mean         0.829798\n",
       "std          0.167507\n",
       "min          0.000000\n",
       "25%          0.789266\n",
       "50%          0.867625\n",
       "75%          0.918274\n",
       "max          0.991528\n",
       "Name: InscCoveredPerc, dtype: float64"
      ]
     },
     "execution_count": 41,
     "metadata": {},
     "output_type": "execute_result"
    }
   ],
   "source": [
    "df_ip['InscCoveredPerc'].describe()"
   ]
  },
  {
   "cell_type": "code",
   "execution_count": 42,
   "metadata": {},
   "outputs": [
    {
     "name": "stderr",
     "output_type": "stream",
     "text": [
      "/Users/ElinaMac/opt/anaconda3/lib/python3.7/site-packages/numpy/lib/histograms.py:839: RuntimeWarning: invalid value encountered in greater_equal\n",
      "  keep = (tmp_a >= first_edge)\n",
      "/Users/ElinaMac/opt/anaconda3/lib/python3.7/site-packages/numpy/lib/histograms.py:840: RuntimeWarning: invalid value encountered in less_equal\n",
      "  keep &= (tmp_a <= last_edge)\n"
     ]
    },
    {
     "data": {
      "image/png": "[encoded data removed]",
      "text/plain": [
       "<Figure size 720x432 with 1 Axes>"
      ]
     },
     "metadata": {},
     "output_type": "display_data"
    }
   ],
   "source": [
    "fig = plt.figure(figsize=(10,6))\n",
    "plt.hist(df_ip.InscCoveredPerc, facecolor = 'b', edgecolor = 'k')\n",
    "plt.xlabel('InscCoveredPerc')\n",
    "plt.title('InscCoveredPerc distribution, IP')\n",
    "plt.show()"
   ]
  },
  {
   "cell_type": "code",
   "execution_count": 43,
   "metadata": {},
   "outputs": [],
   "source": [
    "df_op['InscCoveredPerc'] = df_op['InscClaimAmtReimbursed']/(df_op['InscClaimAmtReimbursed'] + \\\n",
    "                                                           df_op['DeductibleAmtPaid'])"
   ]
  },
  {
   "cell_type": "code",
   "execution_count": 44,
   "metadata": {},
   "outputs": [
    {
     "data": {
      "text/plain": [
       "0         1.0\n",
       "1         1.0\n",
       "2         1.0\n",
       "3         1.0\n",
       "4         1.0\n",
       "         ... \n",
       "517732    1.0\n",
       "517733    1.0\n",
       "517734    1.0\n",
       "517735    1.0\n",
       "517736    1.0\n",
       "Name: InscCoveredPerc, Length: 517737, dtype: float64"
      ]
     },
     "execution_count": 44,
     "metadata": {},
     "output_type": "execute_result"
    }
   ],
   "source": [
    "df_op['InscCoveredPerc'].round(2)"
   ]
  },
  {
   "cell_type": "code",
   "execution_count": 45,
   "metadata": {},
   "outputs": [
    {
     "data": {
      "text/plain": [
       "count    499072.000000\n",
       "mean          0.982011\n",
       "std           0.101637\n",
       "min           0.000000\n",
       "25%           1.000000\n",
       "50%           1.000000\n",
       "75%           1.000000\n",
       "max           1.000000\n",
       "Name: InscCoveredPerc, dtype: float64"
      ]
     },
     "execution_count": 45,
     "metadata": {},
     "output_type": "execute_result"
    }
   ],
   "source": [
    "df_op['InscCoveredPerc'].describe()"
   ]
  },
  {
   "cell_type": "code",
   "execution_count": 46,
   "metadata": {},
   "outputs": [
    {
     "data": {
      "image/png": "[encoded data removed]",
      "text/plain": [
       "<Figure size 720x432 with 1 Axes>"
      ]
     },
     "metadata": {},
     "output_type": "display_data"
    }
   ],
   "source": [
    "fig = plt.figure(figsize=(10,6))\n",
    "plt.hist(df_op.InscCoveredPerc, facecolor = 'r', edgecolor = 'k')\n",
    "plt.xlabel('InscCoveredPerc')\n",
    "plt.title('InscCoveredPerc distribution, OP')\n",
    "plt.show()"
   ]
  },
  {
   "cell_type": "markdown",
   "metadata": {},
   "source": [
    "3. Study the distributions of the durations of average insurance claims (end-start) of the providers? Box-plot/violin-plot based on the PotentialFraud flag. Do you find any differences for none-potential fraud vs potential-fraud providers?"
   ]
  },
  {
   "cell_type": "code",
   "execution_count": 47,
   "metadata": {},
   "outputs": [],
   "source": [
    "fmt = '%Y-%m-%d'\n",
    "\n",
    "df_ip['ClaimStartDt'] = pd.to_datetime(df_ip['ClaimStartDt'], format = '%Y-%m-%d')\n",
    "df_ip['ClaimEndDt'] = pd.to_datetime(df_ip['ClaimEndDt'], format = '%Y-%m-%d')\n",
    "\n",
    "df_op['ClaimStartDt'] = pd.to_datetime(df_op['ClaimStartDt'], format = '%Y-%m-%d')\n",
    "df_op['ClaimEndDt'] = pd.to_datetime(df_op['ClaimEndDt'], format = '%Y-%m-%d')"
   ]
  },
  {
   "cell_type": "code",
   "execution_count": 48,
   "metadata": {},
   "outputs": [],
   "source": [
    "df_ip['Duration'] = df_ip['ClaimEndDt'] - df_ip['ClaimStartDt']\n",
    "\n",
    "df_ip['Duration'] = df_ip['Duration']/np.timedelta64(1, 'D')"
   ]
  },
  {
   "cell_type": "code",
   "execution_count": 49,
   "metadata": {},
   "outputs": [],
   "source": [
    "df_op['Duration'] = df_op['ClaimEndDt'] - df_op['ClaimStartDt']\n",
    "\n",
    "df_op['Duration'] = df_op['Duration']/np.timedelta64(1, 'D')"
   ]
  },
  {
   "cell_type": "code",
   "execution_count": 50,
   "metadata": {},
   "outputs": [
    {
     "data": {
      "text/plain": [
       "Provider\n",
       "PRV57080    35.000000\n",
       "PRV56179    33.000000\n",
       "PRV53449    28.000000\n",
       "PRV55213    26.666667\n",
       "PRV53431    24.000000\n",
       "              ...    \n",
       "PRV56908     0.000000\n",
       "PRV56242     0.000000\n",
       "PRV53471     0.000000\n",
       "PRV56485     0.000000\n",
       "PRV54668     0.000000\n",
       "Name: Duration, Length: 2092, dtype: float64"
      ]
     },
     "execution_count": 50,
     "metadata": {},
     "output_type": "execute_result"
    }
   ],
   "source": [
    "df_ip.groupby('Provider')['Duration'].mean().sort_values(ascending = False)"
   ]
  },
  {
   "cell_type": "code",
   "execution_count": 51,
   "metadata": {},
   "outputs": [
    {
     "data": {
      "text/plain": [
       "Provider\n",
       "PRV54046    20.0\n",
       "PRV55637    20.0\n",
       "PRV57758    20.0\n",
       "PRV51577    20.0\n",
       "PRV56677    14.0\n",
       "            ... \n",
       "PRV51993     0.0\n",
       "PRV55501     0.0\n",
       "PRV56891     0.0\n",
       "PRV51987     0.0\n",
       "PRV56115     0.0\n",
       "Name: Duration, Length: 5012, dtype: float64"
      ]
     },
     "execution_count": 51,
     "metadata": {},
     "output_type": "execute_result"
    }
   ],
   "source": [
    "df_op.groupby('Provider')['Duration'].mean().sort_values(ascending = False)"
   ]
  },
  {
   "cell_type": "markdown",
   "metadata": {},
   "source": [
    "We create two dataframes - for inpatients and outpatient beneficiaries, with added flags for each provider. "
   ]
  },
  {
   "cell_type": "code",
   "execution_count": 52,
   "metadata": {},
   "outputs": [],
   "source": [
    "df_ip_flags = pd.merge(df_ip, flags, on = 'Provider')\n",
    "df_op_flags = pd.merge(df_op, flags, on = 'Provider')"
   ]
  },
  {
   "cell_type": "markdown",
   "metadata": {},
   "source": [
    "From each of these dataframes, we make two separate dataframes, each containing only providers with or without potential fraud flag. "
   ]
  },
  {
   "cell_type": "code",
   "execution_count": 53,
   "metadata": {},
   "outputs": [],
   "source": [
    "df_ip_fraud = df_ip_flags[df_ip_flags['PotentialFraud'] == 'Yes']\n",
    "df_op_fraud = df_op_flags[df_op_flags['PotentialFraud'] == 'Yes']\n",
    "df_ip_nfraud = df_ip_flags[df_ip_flags['PotentialFraud'] == 'No']\n",
    "df_op_nfraud = df_op_flags[df_op_flags['PotentialFraud'] == 'No']"
   ]
  },
  {
   "cell_type": "code",
   "execution_count": 54,
   "metadata": {},
   "outputs": [],
   "source": [
    "df_fraud = pd.concat([df_ip_fraud, df_op_fraud])\n",
    "df_nfraud = pd.concat([df_ip_nfraud, df_op_nfraud])"
   ]
  },
  {
   "cell_type": "code",
   "execution_count": 55,
   "metadata": {},
   "outputs": [
    {
     "data": {
      "image/png": "[encoded data removed]",
      "text/plain": [
       "<Figure size 720x432 with 1 Axes>"
      ]
     },
     "metadata": {},
     "output_type": "display_data"
    }
   ],
   "source": [
    "fig = plt.figure(figsize=(10,6))\n",
    "plt.hist(df_nfraud.Duration, facecolor = 'b', edgecolor = 'k')\n",
    "plt.xlabel('Duration')\n",
    "plt.title('Distribution of Duration of Claims by Non Fraud Providers')\n",
    "plt.show()"
   ]
  },
  {
   "cell_type": "code",
   "execution_count": 56,
   "metadata": {},
   "outputs": [
    {
     "data": {
      "image/png": "[encoded data removed]",
      "text/plain": [
       "<Figure size 720x432 with 1 Axes>"
      ]
     },
     "metadata": {},
     "output_type": "display_data"
    }
   ],
   "source": [
    "fig = plt.figure(figsize=(10,6))\n",
    "plt.hist(df_fraud.Duration, facecolor = 'r', edgecolor = 'k')\n",
    "plt.xlabel('Duration')\n",
    "plt.title('Distribution of Duration of Claims by Fraud Providers')\n",
    "plt.show()"
   ]
  },
  {
   "cell_type": "code",
   "execution_count": 57,
   "metadata": {},
   "outputs": [],
   "source": [
    "AvgDuration = df_ip_fraud.groupby('Provider')['Duration'].mean()"
   ]
  },
  {
   "cell_type": "code",
   "execution_count": 58,
   "metadata": {},
   "outputs": [],
   "source": [
    "AvgDuration = AvgDuration.to_frame()"
   ]
  },
  {
   "cell_type": "code",
   "execution_count": 59,
   "metadata": {},
   "outputs": [],
   "source": [
    "df = pd.concat([df_ip_flags, df_op_flags])"
   ]
  },
  {
   "cell_type": "code",
   "execution_count": 60,
   "metadata": {},
   "outputs": [],
   "source": [
    "df['ip_op'] = df.PotentialFraud.apply(lambda x: 1 if x == 'Yes' else 0)"
   ]
  },
  {
   "cell_type": "code",
   "execution_count": 61,
   "metadata": {},
   "outputs": [
    {
     "data": {
      "text/plain": [
       "(558211, 34)"
      ]
     },
     "execution_count": 61,
     "metadata": {},
     "output_type": "execute_result"
    }
   ],
   "source": [
    "df.shape"
   ]
  },
  {
   "cell_type": "code",
   "execution_count": 62,
   "metadata": {},
   "outputs": [
    {
     "data": {
      "text/html": [
       "<div>\n",
       "<style scoped>\n",
       "    .dataframe tbody tr th:only-of-type {\n",
       "        vertical-align: middle;\n",
       "    }\n",
       "\n",
       "    .dataframe tbody tr th {\n",
       "        vertical-align: top;\n",
       "    }\n",
       "\n",
       "    .dataframe thead th {\n",
       "        text-align: right;\n",
       "    }\n",
       "</style>\n",
       "<table border=\"1\" class=\"dataframe\">\n",
       "  <thead>\n",
       "    <tr style=\"text-align: right;\">\n",
       "      <th></th>\n",
       "      <th>BeneID</th>\n",
       "      <th>ClaimID</th>\n",
       "      <th>ClaimStartDt</th>\n",
       "      <th>ClaimEndDt</th>\n",
       "      <th>Provider</th>\n",
       "      <th>InscClaimAmtReimbursed</th>\n",
       "      <th>AttendingPhysician</th>\n",
       "      <th>OperatingPhysician</th>\n",
       "      <th>OtherPhysician</th>\n",
       "      <th>AdmissionDt</th>\n",
       "      <th>...</th>\n",
       "      <th>ClmProcedureCode_1</th>\n",
       "      <th>ClmProcedureCode_2</th>\n",
       "      <th>ClmProcedureCode_3</th>\n",
       "      <th>ClmProcedureCode_4</th>\n",
       "      <th>ClmProcedureCode_5</th>\n",
       "      <th>ClmProcedureCode_6</th>\n",
       "      <th>InscCoveredPerc</th>\n",
       "      <th>Duration</th>\n",
       "      <th>PotentialFraud</th>\n",
       "      <th>ip_op</th>\n",
       "    </tr>\n",
       "  </thead>\n",
       "  <tbody>\n",
       "    <tr>\n",
       "      <th>0</th>\n",
       "      <td>BENE11001</td>\n",
       "      <td>CLM46614</td>\n",
       "      <td>2009-04-12</td>\n",
       "      <td>2009-04-18</td>\n",
       "      <td>PRV55912</td>\n",
       "      <td>26000</td>\n",
       "      <td>PHY390922</td>\n",
       "      <td>NaN</td>\n",
       "      <td>NaN</td>\n",
       "      <td>2009-04-12</td>\n",
       "      <td>...</td>\n",
       "      <td>NaN</td>\n",
       "      <td>NaN</td>\n",
       "      <td>NaN</td>\n",
       "      <td>NaN</td>\n",
       "      <td>NaN</td>\n",
       "      <td>NaN</td>\n",
       "      <td>0.960544</td>\n",
       "      <td>6.0</td>\n",
       "      <td>Yes</td>\n",
       "      <td>1</td>\n",
       "    </tr>\n",
       "    <tr>\n",
       "      <th>1</th>\n",
       "      <td>BENE17521</td>\n",
       "      <td>CLM34721</td>\n",
       "      <td>2009-01-20</td>\n",
       "      <td>2009-02-01</td>\n",
       "      <td>PRV55912</td>\n",
       "      <td>19000</td>\n",
       "      <td>PHY349293</td>\n",
       "      <td>PHY370861</td>\n",
       "      <td>PHY363291</td>\n",
       "      <td>2009-01-20</td>\n",
       "      <td>...</td>\n",
       "      <td>7769.0</td>\n",
       "      <td>5849.0</td>\n",
       "      <td>NaN</td>\n",
       "      <td>NaN</td>\n",
       "      <td>NaN</td>\n",
       "      <td>NaN</td>\n",
       "      <td>0.946781</td>\n",
       "      <td>12.0</td>\n",
       "      <td>Yes</td>\n",
       "      <td>1</td>\n",
       "    </tr>\n",
       "    <tr>\n",
       "      <th>2</th>\n",
       "      <td>BENE21718</td>\n",
       "      <td>CLM72336</td>\n",
       "      <td>2009-10-17</td>\n",
       "      <td>2009-11-04</td>\n",
       "      <td>PRV55912</td>\n",
       "      <td>17000</td>\n",
       "      <td>PHY334706</td>\n",
       "      <td>PHY334706</td>\n",
       "      <td>NaN</td>\n",
       "      <td>2009-10-17</td>\n",
       "      <td>...</td>\n",
       "      <td>9338.0</td>\n",
       "      <td>NaN</td>\n",
       "      <td>NaN</td>\n",
       "      <td>NaN</td>\n",
       "      <td>NaN</td>\n",
       "      <td>NaN</td>\n",
       "      <td>0.940890</td>\n",
       "      <td>18.0</td>\n",
       "      <td>Yes</td>\n",
       "      <td>1</td>\n",
       "    </tr>\n",
       "    <tr>\n",
       "      <th>3</th>\n",
       "      <td>BENE22934</td>\n",
       "      <td>CLM73394</td>\n",
       "      <td>2009-10-25</td>\n",
       "      <td>2009-10-29</td>\n",
       "      <td>PRV55912</td>\n",
       "      <td>13000</td>\n",
       "      <td>PHY390614</td>\n",
       "      <td>PHY323689</td>\n",
       "      <td>PHY363291</td>\n",
       "      <td>2009-10-25</td>\n",
       "      <td>...</td>\n",
       "      <td>8154.0</td>\n",
       "      <td>NaN</td>\n",
       "      <td>NaN</td>\n",
       "      <td>NaN</td>\n",
       "      <td>NaN</td>\n",
       "      <td>NaN</td>\n",
       "      <td>0.924083</td>\n",
       "      <td>4.0</td>\n",
       "      <td>Yes</td>\n",
       "      <td>1</td>\n",
       "    </tr>\n",
       "    <tr>\n",
       "      <th>4</th>\n",
       "      <td>BENE24402</td>\n",
       "      <td>CLM32911</td>\n",
       "      <td>2009-01-08</td>\n",
       "      <td>2009-01-12</td>\n",
       "      <td>PRV55912</td>\n",
       "      <td>3000</td>\n",
       "      <td>PHY380413</td>\n",
       "      <td>PHY432598</td>\n",
       "      <td>NaN</td>\n",
       "      <td>2009-01-08</td>\n",
       "      <td>...</td>\n",
       "      <td>8543.0</td>\n",
       "      <td>NaN</td>\n",
       "      <td>NaN</td>\n",
       "      <td>NaN</td>\n",
       "      <td>NaN</td>\n",
       "      <td>NaN</td>\n",
       "      <td>0.737463</td>\n",
       "      <td>4.0</td>\n",
       "      <td>Yes</td>\n",
       "      <td>1</td>\n",
       "    </tr>\n",
       "  </tbody>\n",
       "</table>\n",
       "<p>5 rows × 34 columns</p>\n",
       "</div>"
      ],
      "text/plain": [
       "      BeneID   ClaimID ClaimStartDt ClaimEndDt  Provider  \\\n",
       "0  BENE11001  CLM46614   2009-04-12 2009-04-18  PRV55912   \n",
       "1  BENE17521  CLM34721   2009-01-20 2009-02-01  PRV55912   \n",
       "2  BENE21718  CLM72336   2009-10-17 2009-11-04  PRV55912   \n",
       "3  BENE22934  CLM73394   2009-10-25 2009-10-29  PRV55912   \n",
       "4  BENE24402  CLM32911   2009-01-08 2009-01-12  PRV55912   \n",
       "\n",
       "   InscClaimAmtReimbursed AttendingPhysician OperatingPhysician  \\\n",
       "0                   26000          PHY390922                NaN   \n",
       "1                   19000          PHY349293          PHY370861   \n",
       "2                   17000          PHY334706          PHY334706   \n",
       "3                   13000          PHY390614          PHY323689   \n",
       "4                    3000          PHY380413          PHY432598   \n",
       "\n",
       "  OtherPhysician AdmissionDt  ... ClmProcedureCode_1  ClmProcedureCode_2  \\\n",
       "0            NaN  2009-04-12  ...                NaN                 NaN   \n",
       "1      PHY363291  2009-01-20  ...             7769.0              5849.0   \n",
       "2            NaN  2009-10-17  ...             9338.0                 NaN   \n",
       "3      PHY363291  2009-10-25  ...             8154.0                 NaN   \n",
       "4            NaN  2009-01-08  ...             8543.0                 NaN   \n",
       "\n",
       "  ClmProcedureCode_3 ClmProcedureCode_4 ClmProcedureCode_5 ClmProcedureCode_6  \\\n",
       "0                NaN                NaN                NaN                NaN   \n",
       "1                NaN                NaN                NaN                NaN   \n",
       "2                NaN                NaN                NaN                NaN   \n",
       "3                NaN                NaN                NaN                NaN   \n",
       "4                NaN                NaN                NaN                NaN   \n",
       "\n",
       "  InscCoveredPerc Duration PotentialFraud ip_op  \n",
       "0        0.960544      6.0            Yes     1  \n",
       "1        0.946781     12.0            Yes     1  \n",
       "2        0.940890     18.0            Yes     1  \n",
       "3        0.924083      4.0            Yes     1  \n",
       "4        0.737463      4.0            Yes     1  \n",
       "\n",
       "[5 rows x 34 columns]"
      ]
     },
     "execution_count": 62,
     "metadata": {},
     "output_type": "execute_result"
    }
   ],
   "source": [
    "df.head()"
   ]
  },
  {
   "cell_type": "code",
   "execution_count": 63,
   "metadata": {},
   "outputs": [],
   "source": [
    "AvgDur = df.groupby('Provider')['Duration'].mean()"
   ]
  },
  {
   "cell_type": "code",
   "execution_count": 64,
   "metadata": {},
   "outputs": [
    {
     "data": {
      "text/plain": [
       "(5410,)"
      ]
     },
     "execution_count": 64,
     "metadata": {},
     "output_type": "execute_result"
    }
   ],
   "source": [
    "AvgDur.shape"
   ]
  },
  {
   "cell_type": "code",
   "execution_count": 65,
   "metadata": {},
   "outputs": [],
   "source": [
    "df_flags = flags.copy()"
   ]
  },
  {
   "cell_type": "markdown",
   "metadata": {},
   "source": [
    "## Introducing the Final Dataset"
   ]
  },
  {
   "cell_type": "code",
   "execution_count": 66,
   "metadata": {},
   "outputs": [],
   "source": [
    "data = pd.merge(df_flags, AvgDur, on ='Provider')"
   ]
  },
  {
   "cell_type": "code",
   "execution_count": 67,
   "metadata": {},
   "outputs": [
    {
     "data": {
      "text/plain": [
       "(5410, 3)"
      ]
     },
     "execution_count": 67,
     "metadata": {},
     "output_type": "execute_result"
    }
   ],
   "source": [
    "data.shape"
   ]
  },
  {
   "cell_type": "code",
   "execution_count": 68,
   "metadata": {},
   "outputs": [
    {
     "data": {
      "text/plain": [
       "Index(['Provider', 'PotentialFraud', 'Duration'], dtype='object')"
      ]
     },
     "execution_count": 68,
     "metadata": {},
     "output_type": "execute_result"
    }
   ],
   "source": [
    "data.columns"
   ]
  },
  {
   "cell_type": "code",
   "execution_count": 69,
   "metadata": {},
   "outputs": [
    {
     "data": {
      "text/plain": [
       "count    5410.000000\n",
       "mean        2.013987\n",
       "std         2.057721\n",
       "min         0.000000\n",
       "25%         0.875000\n",
       "50%         1.586207\n",
       "75%         2.544613\n",
       "max        35.000000\n",
       "Name: Duration, dtype: float64"
      ]
     },
     "execution_count": 69,
     "metadata": {},
     "output_type": "execute_result"
    }
   ],
   "source": [
    "data.Duration.describe()"
   ]
  },
  {
   "cell_type": "code",
   "execution_count": 88,
   "metadata": {},
   "outputs": [],
   "source": [
    "#this is a test for github"
   ]
  },
  {
   "cell_type": "code",
   "execution_count": 70,
   "metadata": {},
   "outputs": [],
   "source": [
    "my_palette = {'No': 'b', 'Yes': 'r'}"
   ]
  },
  {
   "cell_type": "code",
   "execution_count": 71,
   "metadata": {},
   "outputs": [
    {
     "data": {
      "image/png": "[encoded data removed]",
      "text/plain": [
       "<Figure size 720x432 with 1 Axes>"
      ]
     },
     "metadata": {},
     "output_type": "display_data"
    }
   ],
   "source": [
    "fig, ax = plt.subplots(figsize =(10, 6)) \n",
    "ax = sns.violinplot(x=\"PotentialFraud\", y=\"Duration\", data=data, palette = my_palette)"
   ]
  },
  {
   "cell_type": "code",
   "execution_count": 72,
   "metadata": {},
   "outputs": [],
   "source": [
    "df_fraud = pd.concat([df_ip_fraud, df_op_fraud])\n",
    "df_nfraud = pd.concat([df_ip_nfraud, df_op_nfraud])"
   ]
  },
  {
   "cell_type": "code",
   "execution_count": 73,
   "metadata": {},
   "outputs": [
    {
     "data": {
      "image/png": "[encoded data removed]",
      "text/plain": [
       "<Figure size 720x432 with 1 Axes>"
      ]
     },
     "metadata": {},
     "output_type": "display_data"
    }
   ],
   "source": [
    "fig = plt.figure(figsize=(10,6))\n",
    "plt.hist(df_ip_fraud.Duration, facecolor = 'r', edgecolor = 'k')\n",
    "plt.xlabel('Duration')\n",
    "plt.title('Distribution of Average Duration of Claims by Potential Fraud Providers, IP')\n",
    "plt.show()"
   ]
  },
  {
   "cell_type": "code",
   "execution_count": 74,
   "metadata": {},
   "outputs": [
    {
     "data": {
      "image/png": "[encoded data removed]",
      "text/plain": [
       "<Figure size 720x432 with 1 Axes>"
      ]
     },
     "metadata": {},
     "output_type": "display_data"
    }
   ],
   "source": [
    "fig = plt.figure(figsize=(10,6))\n",
    "plt.hist(df_ip_nfraud.Duration, facecolor = 'b', edgecolor = 'k')\n",
    "plt.xlabel('Duration')\n",
    "plt.title('Distribution of Average Duration of Claims by Non Fraud Providers, IP')\n",
    "plt.show()"
   ]
  },
  {
   "cell_type": "code",
   "execution_count": 75,
   "metadata": {},
   "outputs": [
    {
     "data": {
      "image/png": "[encoded data removed]",
      "text/plain": [
       "<Figure size 720x432 with 1 Axes>"
      ]
     },
     "metadata": {},
     "output_type": "display_data"
    }
   ],
   "source": [
    "fig = plt.figure(figsize=(10,6))\n",
    "plt.hist(df_op_fraud.Duration, facecolor = 'r', edgecolor = 'k')\n",
    "plt.xlabel('Duration')\n",
    "plt.title('Distribution of Average Duration of Claims by Potential Fraud Providers, OP')\n",
    "plt.show()"
   ]
  },
  {
   "cell_type": "code",
   "execution_count": 76,
   "metadata": {},
   "outputs": [
    {
     "data": {
      "image/png": "[encoded data removed]",
      "text/plain": [
       "<Figure size 720x432 with 1 Axes>"
      ]
     },
     "metadata": {},
     "output_type": "display_data"
    }
   ],
   "source": [
    "fig = plt.figure(figsize=(10,6))\n",
    "plt.hist(df_op_nfraud.Duration, facecolor = 'b', edgecolor = 'k')\n",
    "plt.xlabel('Duration')\n",
    "plt.title('Distribution of Average Duration of Claims by Non Fraud Providers, OP')\n",
    "plt.show()"
   ]
  },
  {
   "cell_type": "markdown",
   "metadata": {},
   "source": [
    "4. How are the service durations related to the total claim amounts, i.e. InscClaimAmtReimbursed+DeductibleAmtPaid?"
   ]
  },
  {
   "cell_type": "code",
   "execution_count": 77,
   "metadata": {},
   "outputs": [],
   "source": [
    "df['DeductibleAmtPaid'] = df['DeductibleAmtPaid'].fillna(0)"
   ]
  },
  {
   "cell_type": "code",
   "execution_count": 78,
   "metadata": {},
   "outputs": [],
   "source": [
    "df['TotalClaim'] = df['InscClaimAmtReimbursed'] + df['DeductibleAmtPaid']"
   ]
  },
  {
   "cell_type": "code",
   "execution_count": 79,
   "metadata": {},
   "outputs": [],
   "source": [
    "AvgClm = df.groupby('Provider')['TotalClaim'].mean()"
   ]
  },
  {
   "cell_type": "code",
   "execution_count": 80,
   "metadata": {},
   "outputs": [],
   "source": [
    "AvgClm = AvgClm.to_frame()"
   ]
  },
  {
   "cell_type": "code",
   "execution_count": 81,
   "metadata": {},
   "outputs": [],
   "source": [
    "data = pd.merge(data, AvgClm, on = 'Provider')"
   ]
  },
  {
   "cell_type": "code",
   "execution_count": 82,
   "metadata": {},
   "outputs": [
    {
     "data": {
      "text/plain": [
       "Index(['Provider', 'PotentialFraud', 'Duration', 'TotalClaim'], dtype='object')"
      ]
     },
     "execution_count": 82,
     "metadata": {},
     "output_type": "execute_result"
    }
   ],
   "source": [
    "data.columns"
   ]
  },
  {
   "cell_type": "code",
   "execution_count": 83,
   "metadata": {},
   "outputs": [
    {
     "data": {
      "text/plain": [
       "<matplotlib.axes._subplots.AxesSubplot at 0x7fa149c10c10>"
      ]
     },
     "execution_count": 83,
     "metadata": {},
     "output_type": "execute_result"
    },
    {
     "data": {
      "image/png": "[encoded data removed]",
      "text/plain": [
       "<Figure size 720x432 with 1 Axes>"
      ]
     },
     "metadata": {},
     "output_type": "display_data"
    }
   ],
   "source": [
    "fig = plt.figure(figsize=(10,6))\n",
    "sns.scatterplot(x = 'Duration', y = 'TotalClaim', hue = 'PotentialFraud',\\\n",
    "               data = data, palette = my_palette)"
   ]
  },
  {
   "cell_type": "code",
   "execution_count": 84,
   "metadata": {},
   "outputs": [],
   "source": [
    "#data['Duration'] = data['Duration'].round(2)\n",
    "#data['TotalClaim'] = data['TotalClaim'].round(2)\n",
    "#data['DailyTotalClaim'] = data['DailyTotalClaim'].round(2)"
   ]
  },
  {
   "cell_type": "code",
   "execution_count": 85,
   "metadata": {},
   "outputs": [],
   "source": [
    "#data.rename({'Duration': 'AvgDuration', 'TotalClaim': 'AvgTotalClm', \\\n",
    "#            'DailyTotalClaim': 'MeanDailyTotalChrgs'}, \\\n",
    "#            axis = 1, inplace = True)"
   ]
  },
  {
   "cell_type": "code",
   "execution_count": 86,
   "metadata": {},
   "outputs": [],
   "source": [
    "#fig, ax = plt.subplots(figsize =(10, 6)) \n",
    "#ax = sns.violinplot(x=\"PotentialFraud\", y=\"MeanDailyTotalChrgs\", \\\n",
    "#                    data=data, palette = my_palette)"
   ]
  }
 ],
 "metadata": {
  "kernelspec": {
   "display_name": "Python 3",
   "language": "python",
   "name": "python3"
  },
  "language_info": {
   "codemirror_mode": {
    "name": "ipython",
    "version": 3
   },
   "file_extension": ".py",
   "mimetype": "text/x-python",
   "name": "python",
   "nbconvert_exporter": "python",
   "pygments_lexer": "ipython3",
   "version": "3.7.3"
  }
 },
 "nbformat": 4,
 "nbformat_minor": 4
}
