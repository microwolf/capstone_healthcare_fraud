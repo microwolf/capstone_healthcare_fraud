{
 "cells": [
  {
   "cell_type": "markdown",
   "metadata": {},
   "source": [
    "# Health Care Fraud Detection "
   ]
  },
  {
   "cell_type": "markdown",
   "metadata": {},
   "source": [
    "## Part I. Exploratory Data Analysis "
   ]
  },
  {
   "cell_type": "code",
   "execution_count": 18,
   "metadata": {},
   "outputs": [],
   "source": [
    "from __future__ import print_function\n",
    "\n",
    "import numpy as np\n",
    "import pandas as pd\n",
    "\n",
    "from datetime import datetime\n",
    "\n",
    "import networkx as nx\n",
    "\n",
    "import matplotlib.pyplot as plt\n",
    "%matplotlib inline\n",
    "plt.style.use('ggplot')\n",
    "\n",
    "import seaborn as sns\n"
   ]
  },
  {
   "cell_type": "code",
   "execution_count": 19,
   "metadata": {},
   "outputs": [],
   "source": [
    "#df_ip = pd.read_pickle(\"./df_ip.pkl\")\n",
    "#df_op = pd.read_pickle(\"./df_op.pkl\")"
   ]
  },
  {
   "cell_type": "code",
   "execution_count": 20,
   "metadata": {},
   "outputs": [],
   "source": [
    "df_ip = pd.read_csv('../../../raw_data/Train_Inpatientdata-1542865627584.csv')\n",
    "\n",
    "df_op = pd.read_csv('../../../raw_data/Train_Outpatientdata-1542865627584.csv')\n",
    "\n",
    "df_p = pd.read_csv('../../../raw_data/Train_Beneficiarydata-1542865627584.csv')\n",
    "\n",
    "flags = pd.read_csv('../../../raw_data/Train-1542865627584.csv')\n"
   ]
  },
  {
   "cell_type": "code",
   "execution_count": 21,
   "metadata": {},
   "outputs": [
    {
     "data": {
      "text/plain": [
       "100       52943\n",
       "10        42461\n",
       "200       41594\n",
       "60        40762\n",
       "30        33919\n",
       "40        33616\n",
       "50        31293\n",
       "20        27960\n",
       "80        25095\n",
       "70        24412\n",
       "300       23803\n",
       "90        20839\n",
       "400       19917\n",
       "0         19568\n",
       "500       14238\n",
       "600        8396\n",
       "700        6444\n",
       "3300       5374\n",
       "800        5326\n",
       "900        3886\n",
       "1000       3671\n",
       "1100       3043\n",
       "1200       2207\n",
       "1300       1876\n",
       "1700       1833\n",
       "1800       1818\n",
       "1600       1801\n",
       "2000       1725\n",
       "1900       1705\n",
       "1500       1696\n",
       "          ...  \n",
       "8900          1\n",
       "14900         1\n",
       "3380          1\n",
       "970           1\n",
       "2870          1\n",
       "17200         1\n",
       "6090          1\n",
       "11200         1\n",
       "3390          1\n",
       "84460         1\n",
       "12100         1\n",
       "14020         1\n",
       "10050         1\n",
       "8080          1\n",
       "10060         1\n",
       "2480          1\n",
       "8010          1\n",
       "15800         1\n",
       "1610          1\n",
       "11080         1\n",
       "1870          1\n",
       "9300          1\n",
       "1360          1\n",
       "6070          1\n",
       "102500        1\n",
       "1110          1\n",
       "8020          1\n",
       "101250        1\n",
       "5040          1\n",
       "9600          1\n",
       "Name: InscClaimAmtReimbursed, Length: 342, dtype: int64"
      ]
     },
     "execution_count": 21,
     "metadata": {},
     "output_type": "execute_result"
    }
   ],
   "source": [
    "df_op['InscClaimAmtReimbursed'].value_counts()"
   ]
  },
  {
   "cell_type": "code",
   "execution_count": 22,
   "metadata": {},
   "outputs": [],
   "source": [
    "# df_ip_test = pd.read_csv('Test_Inpatientdata-1542969243754.csv')\n",
    "\n",
    "# df_op_test = pd.read_csv('Test_Outpatientdata-1542969243754.csv')\n",
    "\n",
    "# df_p_test = pd.read_csv('Test_Beneficiarydata-1542969243754.csv')\n",
    "\n",
    "# test = pd.read_csv('Test-1542969243754.csv')"
   ]
  },
  {
   "cell_type": "code",
   "execution_count": 23,
   "metadata": {},
   "outputs": [],
   "source": [
    "fmt = '%Y-%m-%d'\n",
    "\n",
    "df_ip['ClaimStartDt'] = pd.to_datetime(df_ip['ClaimStartDt'], format = '%Y-%m-%d')\n",
    "df_ip['ClaimEndDt'] = pd.to_datetime(df_ip['ClaimEndDt'], format = '%Y-%m-%d')\n",
    "\n",
    "df_op['ClaimStartDt'] = pd.to_datetime(df_op['ClaimStartDt'], format = '%Y-%m-%d')\n",
    "df_op['ClaimEndDt'] = pd.to_datetime(df_op['ClaimEndDt'], format = '%Y-%m-%d')"
   ]
  },
  {
   "cell_type": "code",
   "execution_count": 24,
   "metadata": {},
   "outputs": [],
   "source": [
    "df_ip['Duration'] = df_ip['ClaimEndDt'] - df_ip['ClaimStartDt']\n",
    "\n",
    "df_ip['Duration'] = df_ip['Duration']/np.timedelta64(1, 'D')"
   ]
  },
  {
   "cell_type": "code",
   "execution_count": 25,
   "metadata": {},
   "outputs": [],
   "source": [
    "df_op['Duration'] = df_op['ClaimEndDt'] - df_op['ClaimStartDt']\n",
    "\n",
    "df_op['Duration'] = df_op['Duration']/np.timedelta64(1, 'D')"
   ]
  },
  {
   "cell_type": "markdown",
   "metadata": {},
   "source": [
    "We create two dataframes - for inpatients and outpatient beneficiaries, with added flags for each provider. "
   ]
  },
  {
   "cell_type": "code",
   "execution_count": 26,
   "metadata": {},
   "outputs": [],
   "source": [
    "df_ip_flags = pd.merge(df_ip, flags, on = 'Provider')\n",
    "df_op_flags = pd.merge(df_op, flags, on = 'Provider')"
   ]
  },
  {
   "cell_type": "code",
   "execution_count": 27,
   "metadata": {},
   "outputs": [],
   "source": [
    "df_ip_providers = df_ip_flags.groupby('Provider')\n",
    "\n",
    "df_op_providers = df_op_flags.groupby('Provider')"
   ]
  },
  {
   "cell_type": "code",
   "execution_count": 28,
   "metadata": {},
   "outputs": [
    {
     "data": {
      "text/plain": [
       "2092"
      ]
     },
     "execution_count": 28,
     "metadata": {},
     "output_type": "execute_result"
    }
   ],
   "source": [
    "df_ip_flags['Provider'].nunique()"
   ]
  },
  {
   "cell_type": "code",
   "execution_count": 29,
   "metadata": {},
   "outputs": [
    {
     "data": {
      "text/plain": [
       "5012"
      ]
     },
     "execution_count": 29,
     "metadata": {},
     "output_type": "execute_result"
    }
   ],
   "source": [
    "df_op_flags['Provider'].nunique()"
   ]
  },
  {
   "cell_type": "code",
   "execution_count": 30,
   "metadata": {},
   "outputs": [],
   "source": [
    "df_ip_flags['ip_op'] = 1\n",
    "df_op_flags['ip_op'] = 0"
   ]
  },
  {
   "cell_type": "markdown",
   "metadata": {},
   "source": [
    "From each of these dataframes, we make two separate dataframes, each containing only providers with or without potential fraud flag, respectively."
   ]
  },
  {
   "cell_type": "code",
   "execution_count": 31,
   "metadata": {},
   "outputs": [],
   "source": [
    "df_ip_fraud = df_ip_flags[df_ip_flags['PotentialFraud'] == 'Yes']\n",
    "df_op_fraud = df_op_flags[df_op_flags['PotentialFraud'] == 'Yes']\n",
    "df_ip_nfraud = df_ip_flags[df_ip_flags['PotentialFraud'] == 'No']\n",
    "df_op_nfraud = df_op_flags[df_op_flags['PotentialFraud'] == 'No']"
   ]
  },
  {
   "cell_type": "code",
   "execution_count": null,
   "metadata": {},
   "outputs": [],
   "source": [
    "df_ip_fraud['Provider'].nunique()"
   ]
  },
  {
   "cell_type": "code",
   "execution_count": null,
   "metadata": {},
   "outputs": [],
   "source": [
    "df_ip_nfraud['Provider'].nunique()"
   ]
  },
  {
   "cell_type": "code",
   "execution_count": null,
   "metadata": {},
   "outputs": [],
   "source": [
    "df_op_fraud['Provider'].nunique()"
   ]
  },
  {
   "cell_type": "code",
   "execution_count": null,
   "metadata": {},
   "outputs": [],
   "source": [
    "df_op_nfraud['Provider'].nunique()"
   ]
  },
  {
   "cell_type": "code",
   "execution_count": 33,
   "metadata": {},
   "outputs": [],
   "source": [
    "df_flags = flags.copy()"
   ]
  },
  {
   "cell_type": "code",
   "execution_count": 41,
   "metadata": {},
   "outputs": [],
   "source": [
    "fraud = df_flags[df_flags['PotentialFraud'] == 'Yes']\n",
    "nfraud = df_flags[df_flags['PotentialFraud'] == 'No']"
   ]
  },
  {
   "cell_type": "code",
   "execution_count": 42,
   "metadata": {},
   "outputs": [
    {
     "data": {
      "text/plain": [
       "(506, 2)"
      ]
     },
     "execution_count": 42,
     "metadata": {},
     "output_type": "execute_result"
    }
   ],
   "source": [
    "fraud.shape"
   ]
  },
  {
   "cell_type": "code",
   "execution_count": null,
   "metadata": {},
   "outputs": [],
   "source": [
    "nfraud.shape"
   ]
  },
  {
   "cell_type": "code",
   "execution_count": 43,
   "metadata": {},
   "outputs": [
    {
     "name": "stderr",
     "output_type": "stream",
     "text": [
      "C:\\Users\\patri\\Anaconda3\\lib\\site-packages\\ipykernel_launcher.py:1: FutureWarning: Sorting because non-concatenation axis is not aligned. A future version\n",
      "of pandas will change to not sort by default.\n",
      "\n",
      "To accept the future behavior, pass 'sort=False'.\n",
      "\n",
      "To retain the current behavior and silence the warning, pass 'sort=True'.\n",
      "\n",
      "  \"\"\"Entry point for launching an IPython kernel.\n",
      "C:\\Users\\patri\\Anaconda3\\lib\\site-packages\\ipykernel_launcher.py:2: FutureWarning: Sorting because non-concatenation axis is not aligned. A future version\n",
      "of pandas will change to not sort by default.\n",
      "\n",
      "To accept the future behavior, pass 'sort=False'.\n",
      "\n",
      "To retain the current behavior and silence the warning, pass 'sort=True'.\n",
      "\n",
      "  \n"
     ]
    }
   ],
   "source": [
    "df_fraud = pd.concat([df_ip_fraud, df_op_fraud])\n",
    "df_nfraud = pd.concat([df_ip_nfraud, df_op_nfraud])"
   ]
  },
  {
   "cell_type": "code",
   "execution_count": 44,
   "metadata": {},
   "outputs": [
    {
     "data": {
      "text/html": [
       "<div>\n",
       "<style scoped>\n",
       "    .dataframe tbody tr th:only-of-type {\n",
       "        vertical-align: middle;\n",
       "    }\n",
       "\n",
       "    .dataframe tbody tr th {\n",
       "        vertical-align: top;\n",
       "    }\n",
       "\n",
       "    .dataframe thead th {\n",
       "        text-align: right;\n",
       "    }\n",
       "</style>\n",
       "<table border=\"1\" class=\"dataframe\">\n",
       "  <thead>\n",
       "    <tr style=\"text-align: right;\">\n",
       "      <th></th>\n",
       "      <th>AdmissionDt</th>\n",
       "      <th>AttendingPhysician</th>\n",
       "      <th>BeneID</th>\n",
       "      <th>ClaimEndDt</th>\n",
       "      <th>ClaimID</th>\n",
       "      <th>ClaimStartDt</th>\n",
       "      <th>ClmAdmitDiagnosisCode</th>\n",
       "      <th>ClmDiagnosisCode_1</th>\n",
       "      <th>ClmDiagnosisCode_10</th>\n",
       "      <th>ClmDiagnosisCode_2</th>\n",
       "      <th>...</th>\n",
       "      <th>DeductibleAmtPaid</th>\n",
       "      <th>DiagnosisGroupCode</th>\n",
       "      <th>DischargeDt</th>\n",
       "      <th>Duration</th>\n",
       "      <th>InscClaimAmtReimbursed</th>\n",
       "      <th>OperatingPhysician</th>\n",
       "      <th>OtherPhysician</th>\n",
       "      <th>PotentialFraud</th>\n",
       "      <th>Provider</th>\n",
       "      <th>ip_op</th>\n",
       "    </tr>\n",
       "  </thead>\n",
       "  <tbody>\n",
       "    <tr>\n",
       "      <th>0</th>\n",
       "      <td>2009-04-12</td>\n",
       "      <td>PHY390922</td>\n",
       "      <td>BENE11001</td>\n",
       "      <td>2009-04-18</td>\n",
       "      <td>CLM46614</td>\n",
       "      <td>2009-04-12</td>\n",
       "      <td>7866</td>\n",
       "      <td>1970</td>\n",
       "      <td>NaN</td>\n",
       "      <td>4019</td>\n",
       "      <td>...</td>\n",
       "      <td>1068.0</td>\n",
       "      <td>201</td>\n",
       "      <td>2009-04-18</td>\n",
       "      <td>6.0</td>\n",
       "      <td>26000</td>\n",
       "      <td>NaN</td>\n",
       "      <td>NaN</td>\n",
       "      <td>Yes</td>\n",
       "      <td>PRV55912</td>\n",
       "      <td>1</td>\n",
       "    </tr>\n",
       "    <tr>\n",
       "      <th>1</th>\n",
       "      <td>2009-01-20</td>\n",
       "      <td>PHY349293</td>\n",
       "      <td>BENE17521</td>\n",
       "      <td>2009-02-01</td>\n",
       "      <td>CLM34721</td>\n",
       "      <td>2009-01-20</td>\n",
       "      <td>45340</td>\n",
       "      <td>4240</td>\n",
       "      <td>NaN</td>\n",
       "      <td>2639</td>\n",
       "      <td>...</td>\n",
       "      <td>1068.0</td>\n",
       "      <td>987</td>\n",
       "      <td>2009-02-01</td>\n",
       "      <td>12.0</td>\n",
       "      <td>19000</td>\n",
       "      <td>PHY370861</td>\n",
       "      <td>PHY363291</td>\n",
       "      <td>Yes</td>\n",
       "      <td>PRV55912</td>\n",
       "      <td>1</td>\n",
       "    </tr>\n",
       "    <tr>\n",
       "      <th>2</th>\n",
       "      <td>2009-10-17</td>\n",
       "      <td>PHY334706</td>\n",
       "      <td>BENE21718</td>\n",
       "      <td>2009-11-04</td>\n",
       "      <td>CLM72336</td>\n",
       "      <td>2009-10-17</td>\n",
       "      <td>V5789</td>\n",
       "      <td>V5789</td>\n",
       "      <td>NaN</td>\n",
       "      <td>4168</td>\n",
       "      <td>...</td>\n",
       "      <td>1068.0</td>\n",
       "      <td>941</td>\n",
       "      <td>2009-11-04</td>\n",
       "      <td>18.0</td>\n",
       "      <td>17000</td>\n",
       "      <td>PHY334706</td>\n",
       "      <td>NaN</td>\n",
       "      <td>Yes</td>\n",
       "      <td>PRV55912</td>\n",
       "      <td>1</td>\n",
       "    </tr>\n",
       "    <tr>\n",
       "      <th>3</th>\n",
       "      <td>2009-10-25</td>\n",
       "      <td>PHY390614</td>\n",
       "      <td>BENE22934</td>\n",
       "      <td>2009-10-29</td>\n",
       "      <td>CLM73394</td>\n",
       "      <td>2009-10-25</td>\n",
       "      <td>71946</td>\n",
       "      <td>71535</td>\n",
       "      <td>NaN</td>\n",
       "      <td>71960</td>\n",
       "      <td>...</td>\n",
       "      <td>1068.0</td>\n",
       "      <td>506</td>\n",
       "      <td>2009-10-29</td>\n",
       "      <td>4.0</td>\n",
       "      <td>13000</td>\n",
       "      <td>PHY323689</td>\n",
       "      <td>PHY363291</td>\n",
       "      <td>Yes</td>\n",
       "      <td>PRV55912</td>\n",
       "      <td>1</td>\n",
       "    </tr>\n",
       "    <tr>\n",
       "      <th>4</th>\n",
       "      <td>2009-01-08</td>\n",
       "      <td>PHY380413</td>\n",
       "      <td>BENE24402</td>\n",
       "      <td>2009-01-12</td>\n",
       "      <td>CLM32911</td>\n",
       "      <td>2009-01-08</td>\n",
       "      <td>1748</td>\n",
       "      <td>2330</td>\n",
       "      <td>NaN</td>\n",
       "      <td>NaN</td>\n",
       "      <td>...</td>\n",
       "      <td>1068.0</td>\n",
       "      <td>593</td>\n",
       "      <td>2009-01-12</td>\n",
       "      <td>4.0</td>\n",
       "      <td>3000</td>\n",
       "      <td>PHY432598</td>\n",
       "      <td>NaN</td>\n",
       "      <td>Yes</td>\n",
       "      <td>PRV55912</td>\n",
       "      <td>1</td>\n",
       "    </tr>\n",
       "  </tbody>\n",
       "</table>\n",
       "<p>5 rows × 33 columns</p>\n",
       "</div>"
      ],
      "text/plain": [
       "  AdmissionDt AttendingPhysician     BeneID ClaimEndDt   ClaimID ClaimStartDt  \\\n",
       "0  2009-04-12          PHY390922  BENE11001 2009-04-18  CLM46614   2009-04-12   \n",
       "1  2009-01-20          PHY349293  BENE17521 2009-02-01  CLM34721   2009-01-20   \n",
       "2  2009-10-17          PHY334706  BENE21718 2009-11-04  CLM72336   2009-10-17   \n",
       "3  2009-10-25          PHY390614  BENE22934 2009-10-29  CLM73394   2009-10-25   \n",
       "4  2009-01-08          PHY380413  BENE24402 2009-01-12  CLM32911   2009-01-08   \n",
       "\n",
       "  ClmAdmitDiagnosisCode ClmDiagnosisCode_1 ClmDiagnosisCode_10  \\\n",
       "0                  7866               1970                 NaN   \n",
       "1                 45340               4240                 NaN   \n",
       "2                 V5789              V5789                 NaN   \n",
       "3                 71946              71535                 NaN   \n",
       "4                  1748               2330                 NaN   \n",
       "\n",
       "  ClmDiagnosisCode_2  ... DeductibleAmtPaid DiagnosisGroupCode DischargeDt  \\\n",
       "0               4019  ...            1068.0                201  2009-04-18   \n",
       "1               2639  ...            1068.0                987  2009-02-01   \n",
       "2               4168  ...            1068.0                941  2009-11-04   \n",
       "3              71960  ...            1068.0                506  2009-10-29   \n",
       "4                NaN  ...            1068.0                593  2009-01-12   \n",
       "\n",
       "  Duration InscClaimAmtReimbursed OperatingPhysician OtherPhysician  \\\n",
       "0      6.0                  26000                NaN            NaN   \n",
       "1     12.0                  19000          PHY370861      PHY363291   \n",
       "2     18.0                  17000          PHY334706            NaN   \n",
       "3      4.0                  13000          PHY323689      PHY363291   \n",
       "4      4.0                   3000          PHY432598            NaN   \n",
       "\n",
       "   PotentialFraud  Provider  ip_op  \n",
       "0             Yes  PRV55912      1  \n",
       "1             Yes  PRV55912      1  \n",
       "2             Yes  PRV55912      1  \n",
       "3             Yes  PRV55912      1  \n",
       "4             Yes  PRV55912      1  \n",
       "\n",
       "[5 rows x 33 columns]"
      ]
     },
     "execution_count": 44,
     "metadata": {},
     "output_type": "execute_result"
    }
   ],
   "source": [
    "df_fraud.head()"
   ]
  },
  {
   "cell_type": "code",
   "execution_count": 39,
   "metadata": {},
   "outputs": [
    {
     "data": {
      "text/plain": [
       "506"
      ]
     },
     "execution_count": 39,
     "metadata": {},
     "output_type": "execute_result"
    }
   ],
   "source": [
    "df_fraud['Provider'].nunique()"
   ]
  },
  {
   "cell_type": "code",
   "execution_count": 38,
   "metadata": {},
   "outputs": [
    {
     "data": {
      "text/plain": [
       "4904"
      ]
     },
     "execution_count": 38,
     "metadata": {},
     "output_type": "execute_result"
    }
   ],
   "source": [
    "df_nfraud['Provider'].nunique()"
   ]
  },
  {
   "cell_type": "markdown",
   "metadata": {},
   "source": [
    "### Total Revenue"
   ]
  },
  {
   "cell_type": "code",
   "execution_count": 45,
   "metadata": {},
   "outputs": [],
   "source": [
    "df_fraud['TotalRev'] = df_fraud['InscClaimAmtReimbursed'] + df_fraud['DeductibleAmtPaid']\n",
    "\n",
    "\n",
    "df_nfraud['TotalRev'] = df_nfraud['InscClaimAmtReimbursed'] + df_nfraud['DeductibleAmtPaid']"
   ]
  },
  {
   "cell_type": "code",
   "execution_count": 50,
   "metadata": {},
   "outputs": [
    {
     "data": {
      "text/html": [
       "<div>\n",
       "<style scoped>\n",
       "    .dataframe tbody tr th:only-of-type {\n",
       "        vertical-align: middle;\n",
       "    }\n",
       "\n",
       "    .dataframe tbody tr th {\n",
       "        vertical-align: top;\n",
       "    }\n",
       "\n",
       "    .dataframe thead th {\n",
       "        text-align: right;\n",
       "    }\n",
       "</style>\n",
       "<table border=\"1\" class=\"dataframe\">\n",
       "  <thead>\n",
       "    <tr style=\"text-align: right;\">\n",
       "      <th></th>\n",
       "      <th>AdmissionDt</th>\n",
       "      <th>AttendingPhysician</th>\n",
       "      <th>BeneID</th>\n",
       "      <th>ClaimEndDt</th>\n",
       "      <th>ClaimID</th>\n",
       "      <th>ClaimStartDt</th>\n",
       "      <th>ClmAdmitDiagnosisCode</th>\n",
       "      <th>ClmDiagnosisCode_1</th>\n",
       "      <th>ClmDiagnosisCode_10</th>\n",
       "      <th>ClmDiagnosisCode_2</th>\n",
       "      <th>...</th>\n",
       "      <th>DiagnosisGroupCode</th>\n",
       "      <th>DischargeDt</th>\n",
       "      <th>Duration</th>\n",
       "      <th>InscClaimAmtReimbursed</th>\n",
       "      <th>OperatingPhysician</th>\n",
       "      <th>OtherPhysician</th>\n",
       "      <th>PotentialFraud</th>\n",
       "      <th>Provider</th>\n",
       "      <th>ip_op</th>\n",
       "      <th>TotalRev</th>\n",
       "    </tr>\n",
       "  </thead>\n",
       "  <tbody>\n",
       "    <tr>\n",
       "      <th>0</th>\n",
       "      <td>2009-04-12</td>\n",
       "      <td>PHY390922</td>\n",
       "      <td>BENE11001</td>\n",
       "      <td>2009-04-18</td>\n",
       "      <td>CLM46614</td>\n",
       "      <td>2009-04-12</td>\n",
       "      <td>7866</td>\n",
       "      <td>1970</td>\n",
       "      <td>NaN</td>\n",
       "      <td>4019</td>\n",
       "      <td>...</td>\n",
       "      <td>201</td>\n",
       "      <td>2009-04-18</td>\n",
       "      <td>6.0</td>\n",
       "      <td>26000</td>\n",
       "      <td>NaN</td>\n",
       "      <td>NaN</td>\n",
       "      <td>Yes</td>\n",
       "      <td>PRV55912</td>\n",
       "      <td>1</td>\n",
       "      <td>27068.0</td>\n",
       "    </tr>\n",
       "    <tr>\n",
       "      <th>1</th>\n",
       "      <td>2009-01-20</td>\n",
       "      <td>PHY349293</td>\n",
       "      <td>BENE17521</td>\n",
       "      <td>2009-02-01</td>\n",
       "      <td>CLM34721</td>\n",
       "      <td>2009-01-20</td>\n",
       "      <td>45340</td>\n",
       "      <td>4240</td>\n",
       "      <td>NaN</td>\n",
       "      <td>2639</td>\n",
       "      <td>...</td>\n",
       "      <td>987</td>\n",
       "      <td>2009-02-01</td>\n",
       "      <td>12.0</td>\n",
       "      <td>19000</td>\n",
       "      <td>PHY370861</td>\n",
       "      <td>PHY363291</td>\n",
       "      <td>Yes</td>\n",
       "      <td>PRV55912</td>\n",
       "      <td>1</td>\n",
       "      <td>20068.0</td>\n",
       "    </tr>\n",
       "    <tr>\n",
       "      <th>2</th>\n",
       "      <td>2009-10-17</td>\n",
       "      <td>PHY334706</td>\n",
       "      <td>BENE21718</td>\n",
       "      <td>2009-11-04</td>\n",
       "      <td>CLM72336</td>\n",
       "      <td>2009-10-17</td>\n",
       "      <td>V5789</td>\n",
       "      <td>V5789</td>\n",
       "      <td>NaN</td>\n",
       "      <td>4168</td>\n",
       "      <td>...</td>\n",
       "      <td>941</td>\n",
       "      <td>2009-11-04</td>\n",
       "      <td>18.0</td>\n",
       "      <td>17000</td>\n",
       "      <td>PHY334706</td>\n",
       "      <td>NaN</td>\n",
       "      <td>Yes</td>\n",
       "      <td>PRV55912</td>\n",
       "      <td>1</td>\n",
       "      <td>18068.0</td>\n",
       "    </tr>\n",
       "    <tr>\n",
       "      <th>3</th>\n",
       "      <td>2009-10-25</td>\n",
       "      <td>PHY390614</td>\n",
       "      <td>BENE22934</td>\n",
       "      <td>2009-10-29</td>\n",
       "      <td>CLM73394</td>\n",
       "      <td>2009-10-25</td>\n",
       "      <td>71946</td>\n",
       "      <td>71535</td>\n",
       "      <td>NaN</td>\n",
       "      <td>71960</td>\n",
       "      <td>...</td>\n",
       "      <td>506</td>\n",
       "      <td>2009-10-29</td>\n",
       "      <td>4.0</td>\n",
       "      <td>13000</td>\n",
       "      <td>PHY323689</td>\n",
       "      <td>PHY363291</td>\n",
       "      <td>Yes</td>\n",
       "      <td>PRV55912</td>\n",
       "      <td>1</td>\n",
       "      <td>14068.0</td>\n",
       "    </tr>\n",
       "    <tr>\n",
       "      <th>4</th>\n",
       "      <td>2009-01-08</td>\n",
       "      <td>PHY380413</td>\n",
       "      <td>BENE24402</td>\n",
       "      <td>2009-01-12</td>\n",
       "      <td>CLM32911</td>\n",
       "      <td>2009-01-08</td>\n",
       "      <td>1748</td>\n",
       "      <td>2330</td>\n",
       "      <td>NaN</td>\n",
       "      <td>NaN</td>\n",
       "      <td>...</td>\n",
       "      <td>593</td>\n",
       "      <td>2009-01-12</td>\n",
       "      <td>4.0</td>\n",
       "      <td>3000</td>\n",
       "      <td>PHY432598</td>\n",
       "      <td>NaN</td>\n",
       "      <td>Yes</td>\n",
       "      <td>PRV55912</td>\n",
       "      <td>1</td>\n",
       "      <td>4068.0</td>\n",
       "    </tr>\n",
       "  </tbody>\n",
       "</table>\n",
       "<p>5 rows × 34 columns</p>\n",
       "</div>"
      ],
      "text/plain": [
       "  AdmissionDt AttendingPhysician     BeneID ClaimEndDt   ClaimID ClaimStartDt  \\\n",
       "0  2009-04-12          PHY390922  BENE11001 2009-04-18  CLM46614   2009-04-12   \n",
       "1  2009-01-20          PHY349293  BENE17521 2009-02-01  CLM34721   2009-01-20   \n",
       "2  2009-10-17          PHY334706  BENE21718 2009-11-04  CLM72336   2009-10-17   \n",
       "3  2009-10-25          PHY390614  BENE22934 2009-10-29  CLM73394   2009-10-25   \n",
       "4  2009-01-08          PHY380413  BENE24402 2009-01-12  CLM32911   2009-01-08   \n",
       "\n",
       "  ClmAdmitDiagnosisCode ClmDiagnosisCode_1 ClmDiagnosisCode_10  \\\n",
       "0                  7866               1970                 NaN   \n",
       "1                 45340               4240                 NaN   \n",
       "2                 V5789              V5789                 NaN   \n",
       "3                 71946              71535                 NaN   \n",
       "4                  1748               2330                 NaN   \n",
       "\n",
       "  ClmDiagnosisCode_2  ... DiagnosisGroupCode DischargeDt Duration  \\\n",
       "0               4019  ...                201  2009-04-18      6.0   \n",
       "1               2639  ...                987  2009-02-01     12.0   \n",
       "2               4168  ...                941  2009-11-04     18.0   \n",
       "3              71960  ...                506  2009-10-29      4.0   \n",
       "4                NaN  ...                593  2009-01-12      4.0   \n",
       "\n",
       "  InscClaimAmtReimbursed OperatingPhysician OtherPhysician PotentialFraud  \\\n",
       "0                  26000                NaN            NaN            Yes   \n",
       "1                  19000          PHY370861      PHY363291            Yes   \n",
       "2                  17000          PHY334706            NaN            Yes   \n",
       "3                  13000          PHY323689      PHY363291            Yes   \n",
       "4                   3000          PHY432598            NaN            Yes   \n",
       "\n",
       "   Provider  ip_op  TotalRev  \n",
       "0  PRV55912      1   27068.0  \n",
       "1  PRV55912      1   20068.0  \n",
       "2  PRV55912      1   18068.0  \n",
       "3  PRV55912      1   14068.0  \n",
       "4  PRV55912      1    4068.0  \n",
       "\n",
       "[5 rows x 34 columns]"
      ]
     },
     "execution_count": 50,
     "metadata": {},
     "output_type": "execute_result"
    }
   ],
   "source": [
    "df_fraud.head()"
   ]
  },
  {
   "cell_type": "code",
   "execution_count": 51,
   "metadata": {},
   "outputs": [
    {
     "name": "stderr",
     "output_type": "stream",
     "text": [
      "C:\\Users\\patri\\Anaconda3\\lib\\site-packages\\numpy\\lib\\histograms.py:839: RuntimeWarning: invalid value encountered in greater_equal\n",
      "  keep = (tmp_a >= first_edge)\n",
      "C:\\Users\\patri\\Anaconda3\\lib\\site-packages\\numpy\\lib\\histograms.py:840: RuntimeWarning: invalid value encountered in less_equal\n",
      "  keep &= (tmp_a <= last_edge)\n"
     ]
    },
    {
     "data": {
      "image/png": "[encoded data removed]",
      "text/plain": [
       "<Figure size 720x432 with 1 Axes>"
      ]
     },
     "metadata": {},
     "output_type": "display_data"
    }
   ],
   "source": [
    "fig = plt.figure(figsize=(10,6))\n",
    "plt.hist(df_fraud.TotalRev, facecolor = 'r', edgecolor = 'k')\n",
    "plt.xlabel('TotalRev')\n",
    "plt.title('TotalRev distribution, Fraud Providers')\n",
    "plt.xlim()\n",
    "plt.show()"
   ]
  },
  {
   "cell_type": "code",
   "execution_count": 53,
   "metadata": {},
   "outputs": [
    {
     "data": {
      "image/png": "[encoded data removed]",
      "text/plain": [
       "<Figure size 720x432 with 1 Axes>"
      ]
     },
     "metadata": {},
     "output_type": "display_data"
    }
   ],
   "source": [
    "fig = plt.figure(figsize=(10,6))\n",
    "plt.hist(df_nfraud.TotalRev, facecolor = 'b', edgecolor = 'k')\n",
    "plt.xlabel('TotalRev')\n",
    "plt.title('TotalRev distribution, Fraud Providers')\n",
    "plt.show()"
   ]
  },
  {
   "cell_type": "markdown",
   "metadata": {},
   "source": [
    "### Average Duration of Claims "
   ]
  },
  {
   "cell_type": "code",
   "execution_count": null,
   "metadata": {},
   "outputs": [],
   "source": [
    "AvgDur = df_fraud.groupby('Provider')['Duration'].mean()\n",
    "\n",
    "AvgDur = AvgDur.to_frame()\n",
    "\n",
    "fraud = pd.merge(fraud, AvgDur, on = 'Provider')"
   ]
  },
  {
   "cell_type": "code",
   "execution_count": 13,
   "metadata": {},
   "outputs": [
    {
     "ename": "NameError",
     "evalue": "name 'fraud' is not defined",
     "output_type": "error",
     "traceback": [
      "\u001b[1;31m---------------------------------------------------------------------------\u001b[0m",
      "\u001b[1;31mNameError\u001b[0m                                 Traceback (most recent call last)",
      "\u001b[1;32m<ipython-input-13-998bc8cc247c>\u001b[0m in \u001b[0;36m<module>\u001b[1;34m\u001b[0m\n\u001b[1;32m----> 1\u001b[1;33m \u001b[0mfraud\u001b[0m\u001b[1;33m.\u001b[0m\u001b[0mhead\u001b[0m\u001b[1;33m(\u001b[0m\u001b[1;33m)\u001b[0m\u001b[1;33m\u001b[0m\u001b[1;33m\u001b[0m\u001b[0m\n\u001b[0m",
      "\u001b[1;31mNameError\u001b[0m: name 'fraud' is not defined"
     ]
    }
   ],
   "source": [
    "fraud.head()"
   ]
  },
  {
   "cell_type": "code",
   "execution_count": null,
   "metadata": {},
   "outputs": [],
   "source": [
    "AvgDur = df_nfraud.groupby('Provider')['Duration'].mean()\n",
    "\n",
    "AvgDur = AvgDur.to_frame()\n",
    "\n",
    "nfraud = pd.merge(nfraud, AvgDur, on = 'Provider')"
   ]
  },
  {
   "cell_type": "code",
   "execution_count": null,
   "metadata": {},
   "outputs": [],
   "source": [
    "fig = plt.figure(figsize=(10,6))\n",
    "plt.hist(fraud.Duration, facecolor = 'r', edgecolor = 'k')\n",
    "plt.xlabel('AvgDuration')\n",
    "plt.title('AvgDuration distribution, Fraud Providers')\n",
    "plt.show()"
   ]
  },
  {
   "cell_type": "code",
   "execution_count": null,
   "metadata": {},
   "outputs": [],
   "source": [
    "fig = plt.figure(figsize=(10,6))\n",
    "plt.hist(nfraud.Duration, facecolor = 'b', edgecolor = 'k')\n",
    "plt.xlabel('AvgDuration')\n",
    "plt.title('AvgDuration distribution, No Fraud Providers')\n",
    "plt.show()"
   ]
  },
  {
   "cell_type": "markdown",
   "metadata": {},
   "source": [
    "### Number of Claims per Patient"
   ]
  },
  {
   "cell_type": "markdown",
   "metadata": {},
   "source": [
    "The type of healthcare insurance fraud called 'unbundling' or 'fragmenting' could be detected if we analyse the number of claims per patient, for each provider. Fraudulent providers would increase their profits by billing the procedures separately (unbundling), thus creating a higher number of claims per patient. "
   ]
  },
  {
   "cell_type": "code",
   "execution_count": null,
   "metadata": {},
   "outputs": [],
   "source": [
    "NumOfPt = df_fraud.groupby('Provider')['BeneID'].nunique()\n",
    "\n",
    "NumOfPt = NumOfPt.to_frame()\n",
    "\n",
    "fraud = pd.merge(fraud, NumOfPt, on = 'Provider')"
   ]
  },
  {
   "cell_type": "code",
   "execution_count": null,
   "metadata": {},
   "outputs": [],
   "source": [
    "fraud.columns"
   ]
  },
  {
   "cell_type": "code",
   "execution_count": null,
   "metadata": {},
   "outputs": [],
   "source": [
    "NumOfPt = df_nfraud.groupby('Provider')['BeneID'].nunique()\n",
    "\n",
    "NumOfPt = NumOfPt.to_frame()\n",
    "\n",
    "nfraud = pd.merge(nfraud, NumOfPt, on = 'Provider')"
   ]
  },
  {
   "cell_type": "code",
   "execution_count": null,
   "metadata": {},
   "outputs": [],
   "source": [
    "NumOfClm = df_fraud.groupby('Provider')['ClaimID'].count()\n",
    "\n",
    "NumOfClm = NumOfClm.to_frame()\n",
    "\n",
    "fraud = pd.merge(fraud, NumOfClm, on = 'Provider')\n",
    "\n",
    "fraud.rename({'ClaimID': 'NumOfClm', 'BeneID': 'NumOfPt','Duration': 'AvgDuration'}, axis = 1,\\\n",
    "            inplace = True)"
   ]
  },
  {
   "cell_type": "code",
   "execution_count": null,
   "metadata": {},
   "outputs": [],
   "source": [
    "NumOfClm = df_nfraud.groupby('Provider')['ClaimID'].count()\n",
    "\n",
    "NumOfClm = NumOfClm.to_frame()\n",
    "\n",
    "nfraud = pd.merge(nfraud, NumOfClm, on = 'Provider')\n",
    "\n",
    "nfraud.rename({'ClaimID': 'NumOfClm', 'BeneID': 'NumOfPt', 'Duration': 'AvgDuration'}, axis = 1,\\\n",
    "            inplace = True)"
   ]
  },
  {
   "cell_type": "code",
   "execution_count": null,
   "metadata": {},
   "outputs": [],
   "source": [
    "nfraud.columns"
   ]
  },
  {
   "cell_type": "code",
   "execution_count": null,
   "metadata": {},
   "outputs": [],
   "source": [
    "fraud['ClmPerPt'] = fraud['NumOfClm']/fraud['NumOfPt']"
   ]
  },
  {
   "cell_type": "code",
   "execution_count": null,
   "metadata": {},
   "outputs": [],
   "source": [
    "nfraud['ClmPerPt'] = nfraud['NumOfClm']/nfraud['NumOfPt']"
   ]
  },
  {
   "cell_type": "code",
   "execution_count": null,
   "metadata": {},
   "outputs": [],
   "source": [
    "fraud.head()"
   ]
  },
  {
   "cell_type": "code",
   "execution_count": null,
   "metadata": {},
   "outputs": [],
   "source": [
    "nfraud.head()"
   ]
  },
  {
   "cell_type": "code",
   "execution_count": null,
   "metadata": {},
   "outputs": [],
   "source": [
    "#fraud.rename({'Duration': 'AvgDuration', 'BeneID_y': 'NumOfPt'}, axis = 1,\\\n",
    "#            inplace = True)"
   ]
  },
  {
   "cell_type": "code",
   "execution_count": null,
   "metadata": {},
   "outputs": [],
   "source": [
    "fraud['AvgDuration'] = fraud['AvgDuration'].round(2)\n",
    "fraud['ClmPerPt'] = fraud['ClmPerPt'].round(2)\n",
    "\n",
    "nfraud['AvgDuration'] = nfraud['AvgDuration'].round(2)\n",
    "nfraud['ClmPerPt'] = nfraud['ClmPerPt'].round(2)"
   ]
  },
  {
   "cell_type": "code",
   "execution_count": null,
   "metadata": {},
   "outputs": [],
   "source": [
    "fraud.head()"
   ]
  },
  {
   "cell_type": "code",
   "execution_count": null,
   "metadata": {},
   "outputs": [],
   "source": [
    "nfraud.head()"
   ]
  },
  {
   "cell_type": "code",
   "execution_count": null,
   "metadata": {},
   "outputs": [],
   "source": [
    "fig = plt.figure(figsize=(10,6))\n",
    "\n",
    "plt.subplot(1,1,1)\n",
    "\n",
    "plt.hist(fraud.ClmPerPt, facecolor = 'r', edgecolor = 'k')\n",
    "plt.xlabel('ClmPerPt')\n",
    "plt.title('ClmPerPt distribution, Potential Fraud Providers')\n",
    "plt.show()\n",
    "\n",
    "fig = plt.figure(figsize=(10,6))\n",
    "\n",
    "plt.subplot(1,1,1)\n",
    "\n",
    "plt.hist(nfraud.ClmPerPt, facecolor = 'b', edgecolor = 'k')\n",
    "plt.xlabel('ClmPerPt')\n",
    "plt.title('ClmPerPt distribution, No Fraud Providers')\n",
    "plt.show()"
   ]
  },
  {
   "cell_type": "code",
   "execution_count": null,
   "metadata": {},
   "outputs": [],
   "source": [
    "fig = plt.figure(figsize=(10,6))\n",
    "plt.hist(nfraud.ClmPerPt, facecolor = 'b', edgecolor = 'k')\n",
    "plt.xlabel('ClmPerPt')\n",
    "plt.title('ClmPerPt distribution, No Fraud Providers')\n",
    "plt.show()"
   ]
  },
  {
   "cell_type": "markdown",
   "metadata": {},
   "source": [
    "### Number of Claims "
   ]
  },
  {
   "cell_type": "code",
   "execution_count": 14,
   "metadata": {},
   "outputs": [
    {
     "ename": "NameError",
     "evalue": "name 'fraud' is not defined",
     "output_type": "error",
     "traceback": [
      "\u001b[1;31m---------------------------------------------------------------------------\u001b[0m",
      "\u001b[1;31mNameError\u001b[0m                                 Traceback (most recent call last)",
      "\u001b[1;32m<ipython-input-14-d113fdf2406b>\u001b[0m in \u001b[0;36m<module>\u001b[1;34m\u001b[0m\n\u001b[0;32m      1\u001b[0m \u001b[0mfig\u001b[0m \u001b[1;33m=\u001b[0m \u001b[0mplt\u001b[0m\u001b[1;33m.\u001b[0m\u001b[0mfigure\u001b[0m\u001b[1;33m(\u001b[0m\u001b[0mfigsize\u001b[0m\u001b[1;33m=\u001b[0m\u001b[1;33m(\u001b[0m\u001b[1;36m10\u001b[0m\u001b[1;33m,\u001b[0m\u001b[1;36m6\u001b[0m\u001b[1;33m)\u001b[0m\u001b[1;33m)\u001b[0m\u001b[1;33m\u001b[0m\u001b[1;33m\u001b[0m\u001b[0m\n\u001b[1;32m----> 2\u001b[1;33m \u001b[0mplt\u001b[0m\u001b[1;33m.\u001b[0m\u001b[0mhist\u001b[0m\u001b[1;33m(\u001b[0m\u001b[0mfraud\u001b[0m\u001b[1;33m.\u001b[0m\u001b[0mNumOfClm\u001b[0m\u001b[1;33m,\u001b[0m \u001b[0mfacecolor\u001b[0m \u001b[1;33m=\u001b[0m \u001b[1;34m'r'\u001b[0m\u001b[1;33m,\u001b[0m \u001b[0medgecolor\u001b[0m \u001b[1;33m=\u001b[0m \u001b[1;34m'k'\u001b[0m\u001b[1;33m)\u001b[0m\u001b[1;33m\u001b[0m\u001b[1;33m\u001b[0m\u001b[0m\n\u001b[0m\u001b[0;32m      3\u001b[0m \u001b[0mplt\u001b[0m\u001b[1;33m.\u001b[0m\u001b[0mxlabel\u001b[0m\u001b[1;33m(\u001b[0m\u001b[1;34m'NumOfClm'\u001b[0m\u001b[1;33m)\u001b[0m\u001b[1;33m\u001b[0m\u001b[1;33m\u001b[0m\u001b[0m\n\u001b[0;32m      4\u001b[0m \u001b[0mplt\u001b[0m\u001b[1;33m.\u001b[0m\u001b[0mtitle\u001b[0m\u001b[1;33m(\u001b[0m\u001b[1;34m'NumOfClm distribution, Potential Fraud Providers'\u001b[0m\u001b[1;33m)\u001b[0m\u001b[1;33m\u001b[0m\u001b[1;33m\u001b[0m\u001b[0m\n\u001b[0;32m      5\u001b[0m \u001b[0mplt\u001b[0m\u001b[1;33m.\u001b[0m\u001b[0mshow\u001b[0m\u001b[1;33m(\u001b[0m\u001b[1;33m)\u001b[0m\u001b[1;33m\u001b[0m\u001b[1;33m\u001b[0m\u001b[0m\n",
      "\u001b[1;31mNameError\u001b[0m: name 'fraud' is not defined"
     ]
    },
    {
     "data": {
      "text/plain": [
       "<Figure size 720x432 with 0 Axes>"
      ]
     },
     "metadata": {},
     "output_type": "display_data"
    }
   ],
   "source": [
    "fig = plt.figure(figsize=(10,6))\n",
    "plt.hist(fraud.NumOfClm, facecolor = 'r', edgecolor = 'k')\n",
    "plt.xlabel('NumOfClm')\n",
    "plt.title('NumOfClm distribution, Potential Fraud Providers')\n",
    "plt.show()"
   ]
  },
  {
   "cell_type": "code",
   "execution_count": null,
   "metadata": {},
   "outputs": [],
   "source": [
    "fig = plt.figure(figsize=(10,6))\n",
    "plt.hist(nfraud.NumOfClm, facecolor = 'b', edgecolor = 'k')\n",
    "plt.xlabel('NumOfClm')\n",
    "plt.title('NumOfClm distribution, No Fraud Providers')\n",
    "plt.show()"
   ]
  },
  {
   "cell_type": "markdown",
   "metadata": {},
   "source": [
    "### Revenue Per Patient"
   ]
  },
  {
   "cell_type": "markdown",
   "metadata": {},
   "source": [
    "The type of fraud called 'upcoding' could be detected if we look at how much the providers receive per patient. Noticable difference between potential fraudsters and non fraudsters would indicate that a provider send medical bills that are more expensive than they should have been based on the services they performed. "
   ]
  },
  {
   "cell_type": "code",
   "execution_count": null,
   "metadata": {},
   "outputs": [],
   "source": [
    "TotalRev = df_fraud.groupby('Provider')['TotalRev'].agg('sum')\n",
    "\n",
    "TotalRev = TotalRev.to_frame()\n",
    "\n",
    "fraud = pd.merge(fraud, TotalRev, on = 'Provider')\n",
    "\n",
    "#fraud.rename({'TotalClaim': 'TotalRev'}, axis = 1, inplace = True)"
   ]
  },
  {
   "cell_type": "code",
   "execution_count": null,
   "metadata": {},
   "outputs": [],
   "source": [
    "fraud.columns"
   ]
  },
  {
   "cell_type": "code",
   "execution_count": null,
   "metadata": {},
   "outputs": [],
   "source": [
    "TotalRev = df_nfraud.groupby('Provider')['TotalRev'].agg('sum')\n",
    "\n",
    "TotalRev = TotalRev.to_frame()\n",
    "\n",
    "nfraud = pd.merge(nfraud, TotalRev, on = 'Provider')\n",
    "\n",
    "#nfraud.rename({'TotalClaim': 'TotalRev'}, axis = 1, inplace = True)"
   ]
  },
  {
   "cell_type": "code",
   "execution_count": null,
   "metadata": {},
   "outputs": [],
   "source": [
    "nfraud.head()"
   ]
  },
  {
   "cell_type": "code",
   "execution_count": null,
   "metadata": {},
   "outputs": [],
   "source": [
    "fig = plt.figure(figsize=(10,6))\n",
    "plt.hist(fraud.TotalRev, facecolor = 'r', edgecolor = 'k')\n",
    "plt.xlabel('TotalRev')\n",
    "plt.title('TotalRev distribution, Potential Fraud Providers')\n",
    "plt.show()"
   ]
  },
  {
   "cell_type": "code",
   "execution_count": null,
   "metadata": {},
   "outputs": [],
   "source": [
    "fig = plt.figure(figsize=(10,6))\n",
    "plt.hist(nfraud.TotalRev, range = [0, 650000],facecolor = 'b', edgecolor = 'k')\n",
    "plt.xlabel('TotalRev')\n",
    "plt.title('TotalRev distribution, No Fraud Providers')\n",
    "plt.show()"
   ]
  },
  {
   "cell_type": "code",
   "execution_count": null,
   "metadata": {},
   "outputs": [],
   "source": [
    "fraud['RevPerPt'] = fraud['TotalRev']/fraud['NumOfPt']\n",
    "nfraud['RevPerPt'] = nfraud['TotalRev']/nfraud['NumOfPt']"
   ]
  },
  {
   "cell_type": "code",
   "execution_count": null,
   "metadata": {},
   "outputs": [],
   "source": [
    "nfraud.head()"
   ]
  },
  {
   "cell_type": "code",
   "execution_count": null,
   "metadata": {},
   "outputs": [],
   "source": [
    "fig = plt.figure(figsize=(10,6))\n",
    "plt.hist(fraud.RevPerPt, facecolor = 'r', edgecolor = 'k')\n",
    "plt.xlabel('RevPerPt')\n",
    "plt.title('RevPerPt distribution, Potential Fraud Providers')\n",
    "plt.show()"
   ]
  },
  {
   "cell_type": "code",
   "execution_count": null,
   "metadata": {},
   "outputs": [],
   "source": [
    "fig = plt.figure(figsize=(10,6))\n",
    "plt.hist(nfraud.RevPerPt, range = (0, 35000),facecolor = 'b', edgecolor = 'k')\n",
    "plt.xlabel('RevPerPt')\n",
    "plt.title('RevPerPt distribution, Non Fraud Providers')\n",
    "plt.show()"
   ]
  },
  {
   "cell_type": "code",
   "execution_count": null,
   "metadata": {},
   "outputs": [],
   "source": [
    "fraud['RevPerPt'] = fraud['RevPerPt'].round(2)\n",
    "\n",
    "nfraud['RevPerPt'] = nfraud['RevPerPt'].round(2)\n",
    "\n",
    "fraud['TotalRev'] = fraud['TotalRev'].round(0).astype(int)\n",
    "\n",
    "nfraud['TotalRev'] = nfraud['TotalRev'].round(0).astype(int)"
   ]
  },
  {
   "cell_type": "code",
   "execution_count": null,
   "metadata": {},
   "outputs": [],
   "source": [
    "fraud.head()"
   ]
  },
  {
   "cell_type": "code",
   "execution_count": null,
   "metadata": {},
   "outputs": [],
   "source": [
    "nfraud.head()"
   ]
  },
  {
   "cell_type": "markdown",
   "metadata": {},
   "source": [
    "### Number of Claims with No Attending Physician"
   ]
  },
  {
   "cell_type": "code",
   "execution_count": null,
   "metadata": {},
   "outputs": [],
   "source": [
    "NoPhy = df_fraud.AttendingPhysician.isnull().groupby(df_fraud['Provider']).sum().astype(int).reset_index(name = 'count')"
   ]
  },
  {
   "cell_type": "code",
   "execution_count": null,
   "metadata": {},
   "outputs": [],
   "source": [
    "NoPhy['count'].describe()"
   ]
  },
  {
   "cell_type": "markdown",
   "metadata": {},
   "source": [
    "## Number of Physicians Per Claim"
   ]
  },
  {
   "cell_type": "code",
   "execution_count": null,
   "metadata": {},
   "outputs": [],
   "source": [
    "df_phy_fraud = df_fraud[['AttendingPhysician', 'OperatingPhysician', \\\n",
    "                    'OtherPhysician']]\n",
    "\n",
    "df_phy_nfraud = df_nfraud[['AttendingPhysician', 'OperatingPhysician', \\\n",
    "                    'OtherPhysician']]"
   ]
  },
  {
   "cell_type": "code",
   "execution_count": null,
   "metadata": {},
   "outputs": [],
   "source": [
    "(df_phy_fraud.isnull().sum().sort_values(ascending = False))*100/len(df_phy_fraud)"
   ]
  },
  {
   "cell_type": "code",
   "execution_count": null,
   "metadata": {},
   "outputs": [],
   "source": [
    "(df_phy_nfraud.isnull().sum().sort_values(ascending = False))*100/len(df_phy_nfraud)"
   ]
  },
  {
   "cell_type": "markdown",
   "metadata": {},
   "source": [
    "Percentage of fraud and no fraud providers, with the physicians on their claims:"
   ]
  },
  {
   "cell_type": "code",
   "execution_count": 15,
   "metadata": {},
   "outputs": [
    {
     "ename": "NameError",
     "evalue": "name 'df_phy_fraud' is not defined",
     "output_type": "error",
     "traceback": [
      "\u001b[1;31m---------------------------------------------------------------------------\u001b[0m",
      "\u001b[1;31mNameError\u001b[0m                                 Traceback (most recent call last)",
      "\u001b[1;32m<ipython-input-15-f9dab9b8b504>\u001b[0m in \u001b[0;36m<module>\u001b[1;34m\u001b[0m\n\u001b[1;32m----> 1\u001b[1;33m \u001b[1;36m100\u001b[0m \u001b[1;33m-\u001b[0m \u001b[1;33m(\u001b[0m\u001b[0mdf_phy_fraud\u001b[0m\u001b[1;33m.\u001b[0m\u001b[0misnull\u001b[0m\u001b[1;33m(\u001b[0m\u001b[1;33m)\u001b[0m\u001b[1;33m.\u001b[0m\u001b[0msum\u001b[0m\u001b[1;33m(\u001b[0m\u001b[1;33m)\u001b[0m\u001b[1;33m.\u001b[0m\u001b[0msort_values\u001b[0m\u001b[1;33m(\u001b[0m\u001b[0mascending\u001b[0m \u001b[1;33m=\u001b[0m \u001b[1;32mFalse\u001b[0m\u001b[1;33m)\u001b[0m\u001b[1;33m)\u001b[0m\u001b[1;33m*\u001b[0m\u001b[1;36m100\u001b[0m\u001b[1;33m/\u001b[0m\u001b[0mlen\u001b[0m\u001b[1;33m(\u001b[0m\u001b[0mdf_phy_fraud\u001b[0m\u001b[1;33m)\u001b[0m\u001b[1;33m\u001b[0m\u001b[1;33m\u001b[0m\u001b[0m\n\u001b[0m",
      "\u001b[1;31mNameError\u001b[0m: name 'df_phy_fraud' is not defined"
     ]
    }
   ],
   "source": [
    "100 - (df_phy_fraud.isnull().sum().sort_values(ascending = False))*100/len(df_phy_fraud)"
   ]
  },
  {
   "cell_type": "code",
   "execution_count": null,
   "metadata": {},
   "outputs": [],
   "source": [
    "100 - (df_phy_nfraud.isnull().sum().sort_values(ascending = False))*100/len(df_phy_nfraud)"
   ]
  },
  {
   "cell_type": "markdown",
   "metadata": {},
   "source": [
    "## Number of Procedure Codes per Patient"
   ]
  },
  {
   "cell_type": "code",
   "execution_count": null,
   "metadata": {},
   "outputs": [],
   "source": [
    "df_num_procedure_fraud = df_fraud[['ClmProcedureCode_1', \\\n",
    "                'ClmProcedureCode_2','ClmProcedureCode_3', \\\n",
    "                    'ClmProcedureCode_4', 'ClmProcedureCode_5',\\\n",
    "                                  'ClmProcedureCode_6']]\n",
    "\n",
    "df_num_procedure_nfraud = df_nfraud[['ClmProcedureCode_1', \\\n",
    "                'ClmProcedureCode_2','ClmProcedureCode_3', \\\n",
    "                    'ClmProcedureCode_4', 'ClmProcedureCode_5',\\\n",
    "                                  'ClmProcedureCode_6']]"
   ]
  },
  {
   "cell_type": "code",
   "execution_count": null,
   "metadata": {},
   "outputs": [],
   "source": [
    "(df_num_procedure_fraud.isnull().sum().sort_values(ascending = False))*100/len(df_num_procedure_fraud)"
   ]
  },
  {
   "cell_type": "code",
   "execution_count": null,
   "metadata": {},
   "outputs": [],
   "source": [
    "(df_num_procedure_nfraud.isnull().sum().sort_values(ascending = False))*100/len(df_num_procedure_nfraud)"
   ]
  },
  {
   "cell_type": "markdown",
   "metadata": {},
   "source": [
    "Percentage of fraud and no fraud providers that use procedure codes on their claims:"
   ]
  },
  {
   "cell_type": "code",
   "execution_count": null,
   "metadata": {},
   "outputs": [],
   "source": [
    "100 - (df_num_procedure_fraud.isnull().sum().sort_values(ascending = False))*100/len(df_num_procedure_fraud)"
   ]
  },
  {
   "cell_type": "code",
   "execution_count": null,
   "metadata": {},
   "outputs": [],
   "source": [
    "100 - (df_num_procedure_nfraud.isnull().sum().sort_values(ascending = False))*100/len(df_num_procedure_nfraud)"
   ]
  },
  {
   "cell_type": "code",
   "execution_count": null,
   "metadata": {},
   "outputs": [],
   "source": [
    "#df_fraud['num_nonanproc_codes'] =  df_fraud['ClmProcedureCode_1'].isnull()"
   ]
  },
  {
   "cell_type": "markdown",
   "metadata": {},
   "source": [
    "## Number of Diagnosis Codes Per Patient"
   ]
  },
  {
   "cell_type": "code",
   "execution_count": null,
   "metadata": {},
   "outputs": [],
   "source": [
    "df_num_diag_fraud = df_fraud[['ClmDiagnosisCode_1', \\\n",
    "                'ClmDiagnosisCode_2','ClmDiagnosisCode_3', \\\n",
    "                    'ClmDiagnosisCode_4', 'ClmDiagnosisCode_5',\\\n",
    "                                  'ClmDiagnosisCode_6',\\\n",
    "                      'ClmDiagnosisCode_7', 'ClmDiagnosisCode_8',\\\n",
    "                                  'ClmDiagnosisCode_9',\\\n",
    "                             'ClmDiagnosisCode_10']]"
   ]
  },
  {
   "cell_type": "code",
   "execution_count": null,
   "metadata": {},
   "outputs": [],
   "source": [
    "df_num_diag_nfraud = df_nfraud[['ClmDiagnosisCode_1', \\\n",
    "                'ClmDiagnosisCode_2','ClmDiagnosisCode_3', \\\n",
    "                    'ClmDiagnosisCode_4', 'ClmDiagnosisCode_5',\\\n",
    "                                  'ClmDiagnosisCode_6',\\\n",
    "                      'ClmDiagnosisCode_7', 'ClmDiagnosisCode_8',\\\n",
    "                                  'ClmDiagnosisCode_9',\\\n",
    "                             'ClmDiagnosisCode_10']]"
   ]
  },
  {
   "cell_type": "code",
   "execution_count": null,
   "metadata": {},
   "outputs": [],
   "source": [
    "(df_num_diag_fraud.isnull().sum().sort_values(ascending = False))*100/len(df_num_diag_fraud)"
   ]
  },
  {
   "cell_type": "code",
   "execution_count": null,
   "metadata": {},
   "outputs": [],
   "source": [
    "(df_num_diag_fraud.isnull().sum().sort_values(ascending = False))*100/len(df_num_diag_nfraud)"
   ]
  },
  {
   "cell_type": "code",
   "execution_count": null,
   "metadata": {},
   "outputs": [],
   "source": [
    "100 - (df_num_diag_fraud.isnull().sum().sort_values(ascending = True))*100/len(df_num_diag_fraud)"
   ]
  },
  {
   "cell_type": "code",
   "execution_count": null,
   "metadata": {},
   "outputs": [],
   "source": [
    "100 - (df_num_diag_fraud.isnull().sum().sort_values(ascending = False))*100/len(df_num_diag_nfraud)"
   ]
  },
  {
   "cell_type": "markdown",
   "metadata": {},
   "source": [
    "# States"
   ]
  },
  {
   "cell_type": "code",
   "execution_count": null,
   "metadata": {},
   "outputs": [],
   "source": [
    "df_loc_fraud = pd.merge(df_fraud, df_p, on = 'BeneID')\n",
    "\n",
    "df_loc_nfraud = pd.merge(df_nfraud, df_p, on = 'BeneID')"
   ]
  },
  {
   "cell_type": "code",
   "execution_count": null,
   "metadata": {},
   "outputs": [],
   "source": [
    "fraud_states = df_loc_fraud['State'].unique()\n",
    "print (sorted(fraud_states))"
   ]
  },
  {
   "cell_type": "code",
   "execution_count": null,
   "metadata": {},
   "outputs": [],
   "source": [
    "nfraud_states = df_loc_nfraud['State'].unique()\n",
    "print (sorted(nfraud_states))"
   ]
  },
  {
   "cell_type": "code",
   "execution_count": null,
   "metadata": {},
   "outputs": [],
   "source": [
    "df_loc_nfraud['State'].mode()"
   ]
  },
  {
   "cell_type": "code",
   "execution_count": null,
   "metadata": {},
   "outputs": [],
   "source": [
    "df_loc_fraud['County'].nunique()"
   ]
  },
  {
   "cell_type": "code",
   "execution_count": null,
   "metadata": {},
   "outputs": [],
   "source": [
    "df_loc_nfraud['County'].nunique()"
   ]
  },
  {
   "cell_type": "code",
   "execution_count": null,
   "metadata": {},
   "outputs": [],
   "source": [
    "fig = plt.figure(figsize=(18,12))\n",
    "df_loc_fraud.groupby('State')['ClaimID'].count().sort_values(ascending = False).plot(kind = 'bar',facecolor = 'r', edgecolor = 'k')\n",
    "\n",
    "plt.ylabel('State Code')\n",
    "plt.title('Number of Claims by States, Fraud Providers')\n",
    "plt.show()"
   ]
  },
  {
   "cell_type": "code",
   "execution_count": 16,
   "metadata": {},
   "outputs": [
    {
     "ename": "NameError",
     "evalue": "name 'df_loc_nfraud' is not defined",
     "output_type": "error",
     "traceback": [
      "\u001b[1;31m---------------------------------------------------------------------------\u001b[0m",
      "\u001b[1;31mNameError\u001b[0m                                 Traceback (most recent call last)",
      "\u001b[1;32m<ipython-input-16-80dd0c5ed7f1>\u001b[0m in \u001b[0;36m<module>\u001b[1;34m\u001b[0m\n\u001b[0;32m      1\u001b[0m \u001b[0mfig\u001b[0m \u001b[1;33m=\u001b[0m \u001b[0mplt\u001b[0m\u001b[1;33m.\u001b[0m\u001b[0mfigure\u001b[0m\u001b[1;33m(\u001b[0m\u001b[0mfigsize\u001b[0m\u001b[1;33m=\u001b[0m\u001b[1;33m(\u001b[0m\u001b[1;36m10\u001b[0m\u001b[1;33m,\u001b[0m\u001b[1;36m6\u001b[0m\u001b[1;33m)\u001b[0m\u001b[1;33m)\u001b[0m\u001b[1;33m\u001b[0m\u001b[1;33m\u001b[0m\u001b[0m\n\u001b[1;32m----> 2\u001b[1;33m \u001b[0mdf_loc_nfraud\u001b[0m\u001b[1;33m.\u001b[0m\u001b[0mgroupby\u001b[0m\u001b[1;33m(\u001b[0m\u001b[1;34m'State'\u001b[0m\u001b[1;33m)\u001b[0m\u001b[1;33m[\u001b[0m\u001b[1;34m'ClaimID'\u001b[0m\u001b[1;33m]\u001b[0m\u001b[1;33m.\u001b[0m\u001b[0mcount\u001b[0m\u001b[1;33m(\u001b[0m\u001b[1;33m)\u001b[0m\u001b[1;33m.\u001b[0m\u001b[0msort_values\u001b[0m\u001b[1;33m(\u001b[0m\u001b[0mascending\u001b[0m \u001b[1;33m=\u001b[0m \u001b[1;32mFalse\u001b[0m\u001b[1;33m)\u001b[0m\u001b[1;33m.\u001b[0m\u001b[0mplot\u001b[0m\u001b[1;33m(\u001b[0m\u001b[0mkind\u001b[0m \u001b[1;33m=\u001b[0m \u001b[1;34m'bar'\u001b[0m\u001b[1;33m,\u001b[0m\u001b[0mfacecolor\u001b[0m \u001b[1;33m=\u001b[0m \u001b[1;34m'b'\u001b[0m\u001b[1;33m,\u001b[0m \u001b[0medgecolor\u001b[0m \u001b[1;33m=\u001b[0m \u001b[1;34m'k'\u001b[0m\u001b[1;33m)\u001b[0m\u001b[1;33m\u001b[0m\u001b[1;33m\u001b[0m\u001b[0m\n\u001b[0m\u001b[0;32m      3\u001b[0m \u001b[1;33m\u001b[0m\u001b[0m\n\u001b[0;32m      4\u001b[0m \u001b[0mplt\u001b[0m\u001b[1;33m.\u001b[0m\u001b[0mylabel\u001b[0m\u001b[1;33m(\u001b[0m\u001b[1;34m'State Code'\u001b[0m\u001b[1;33m)\u001b[0m\u001b[1;33m\u001b[0m\u001b[1;33m\u001b[0m\u001b[0m\n\u001b[0;32m      5\u001b[0m \u001b[0mplt\u001b[0m\u001b[1;33m.\u001b[0m\u001b[0mtitle\u001b[0m\u001b[1;33m(\u001b[0m\u001b[1;34m'Number of Claims by States, No Fraud Providers'\u001b[0m\u001b[1;33m)\u001b[0m\u001b[1;33m\u001b[0m\u001b[1;33m\u001b[0m\u001b[0m\n",
      "\u001b[1;31mNameError\u001b[0m: name 'df_loc_nfraud' is not defined"
     ]
    },
    {
     "data": {
      "text/plain": [
       "<Figure size 720x432 with 0 Axes>"
      ]
     },
     "metadata": {},
     "output_type": "display_data"
    }
   ],
   "source": [
    "fig = plt.figure(figsize=(10,6))\n",
    "df_loc_nfraud.groupby('State')['ClaimID'].count().sort_values(ascending = False).plot(kind = 'bar',facecolor = 'b', edgecolor = 'k')\n",
    "\n",
    "plt.ylabel('State Code')\n",
    "plt.title('Number of Claims by States, No Fraud Providers')\n",
    "plt.show()"
   ]
  },
  {
   "cell_type": "code",
   "execution_count": null,
   "metadata": {},
   "outputs": [],
   "source": [
    "fig = plt.figure(figsize=(10,6))\n",
    "df_loc_fraud.groupby('State')['ClaimID'].count().sort_values(ascending = True).tail(10).plot(kind = 'barh',facecolor = 'r', edgecolor = 'k')\n",
    "\n",
    "plt.ylabel('State Code')\n",
    "plt.title('Top 10 States with the Highest Number of Claims, Fraud Providers')\n",
    "plt.show()"
   ]
  },
  {
   "cell_type": "markdown",
   "metadata": {},
   "source": [
    "State Codes:\n",
    "* 05 - California\n",
    "* 10 - Florida\n",
    "* 33 - New York\n",
    "* 39 - Pennsylvania\n",
    "* 45 - Texas\n",
    "* 31 - New Jersey\n",
    "* 49 - Virginia\n",
    "* 23 - Michigan\n",
    "* 14 - Illinois\n",
    "* 22 - Massachusetts"
   ]
  },
  {
   "cell_type": "code",
   "execution_count": null,
   "metadata": {},
   "outputs": [],
   "source": [
    "fig = plt.figure(figsize=(10,6))\n",
    "df_loc_nfraud.groupby('State')['ClaimID'].count().sort_values(ascending = True).tail(10).plot(kind = 'barh',facecolor = 'b', edgecolor = 'k')\n",
    "\n",
    "plt.ylabel('State Code')\n",
    "plt.title('Top 10 States with the Highest Number of Claims, No Fraud Providers')\n",
    "plt.show()"
   ]
  },
  {
   "cell_type": "markdown",
   "metadata": {},
   "source": [
    "State Codes:\n",
    "* 45 - Texas\n",
    "* 10 - Florida\n",
    "* 5  - California\n",
    "* 33 - New York\n",
    "* 14 - Illinois\n",
    "* 36 - Ohio\n",
    "* 34 - Oklahoma\n",
    "* 11 - Georgia\n",
    "* 23 - Michigan\n",
    "* 39 - Pennsylvania\n",
    "    "
   ]
  },
  {
   "cell_type": "code",
   "execution_count": null,
   "metadata": {},
   "outputs": [],
   "source": [
    "fig = plt.figure(figsize=(10,6))\n",
    "df_loc_nfraud.groupby('State')['ClaimID'].count().sort_values(ascending = False).tail(10).plot(kind = 'barh',facecolor = 'b', edgecolor = 'k')\n",
    "\n",
    "plt.ylabel('State Code')\n",
    "plt.title('Top 10 States with the Lowest Number of Claims, No Fraud Providers')\n",
    "plt.show()"
   ]
  },
  {
   "cell_type": "markdown",
   "metadata": {},
   "source": [
    "State Codes\n",
    "* 9 - District of Columbia\n",
    "* 2 - Alaska\n",
    "* 53 - Wyoming\n",
    "* 35 - North Dakota\n",
    "* 8 - Delaware\n",
    "* 41 - Rhode Island\n",
    "* 46 - Utah\n",
    "* 12 - Hawaii\n",
    "* 27 - Montana\n",
    "* 47 - Vermont\n"
   ]
  },
  {
   "cell_type": "markdown",
   "metadata": {},
   "source": [
    "## Counties "
   ]
  },
  {
   "cell_type": "code",
   "execution_count": null,
   "metadata": {},
   "outputs": [],
   "source": [
    "#fig = plt.figure(figsize=(18,12))\n",
    "#df_loc_fraud.groupby('County')['ClaimID'].count().sort_values(ascending = False).plot(kind = 'bar',facecolor = 'r', edgecolor = 'k')\n",
    "\n",
    "#plt.ylabel('County Code')\n",
    "#plt.title('Number of Claims by Counties, Fraud Providers')\n",
    "#plt.show()"
   ]
  },
  {
   "cell_type": "code",
   "execution_count": null,
   "metadata": {},
   "outputs": [],
   "source": [
    "#fig = plt.figure(figsize=(10,6))\n",
    "#df_loc_nfraud.groupby('County')['ClaimID'].count().sort_values(ascending = False).plot(kind = 'bar',facecolor = 'b', edgecolor = 'k')\n",
    "\n",
    "#plt.ylabel('County Code')\n",
    "#plt.title('Number of Claims by Counties, No Fraud Providers')\n",
    "#plt.show()"
   ]
  },
  {
   "cell_type": "code",
   "execution_count": null,
   "metadata": {},
   "outputs": [],
   "source": [
    "fig = plt.figure(figsize=(10,6))\n",
    "df_loc_fraud.groupby('County')['ClaimID'].count().sort_values(ascending = True).tail(10).plot(kind = 'barh',facecolor = 'r', edgecolor = 'k')\n",
    "\n",
    "plt.ylabel('County Code')\n",
    "plt.title('Number of Claims by Counties, Fraud Providers')\n",
    "plt.show()"
   ]
  },
  {
   "cell_type": "code",
   "execution_count": null,
   "metadata": {},
   "outputs": [],
   "source": [
    "fig = plt.figure(figsize=(10,6))\n",
    "df_loc_nfraud.groupby('County')['ClaimID'].count().sort_values(ascending = True).tail(10).plot(kind = 'barh',facecolor = 'b', edgecolor = 'k')\n",
    "\n",
    "plt.ylabel('County Code')\n",
    "plt.title('Number of Claims by Counties, No Fraud Providers')\n",
    "plt.show()"
   ]
  },
  {
   "cell_type": "code",
   "execution_count": null,
   "metadata": {},
   "outputs": [],
   "source": [
    "df = pd.concat([df_ip_flags, df_op_flags])"
   ]
  },
  {
   "cell_type": "code",
   "execution_count": null,
   "metadata": {},
   "outputs": [],
   "source": [
    "#df['ip_op'] = df.PotentialFraud.apply(lambda x: 1 if x == 'Yes' else 0)"
   ]
  },
  {
   "cell_type": "code",
   "execution_count": null,
   "metadata": {},
   "outputs": [],
   "source": [
    "df.shape"
   ]
  },
  {
   "cell_type": "code",
   "execution_count": null,
   "metadata": {},
   "outputs": [],
   "source": []
  },
  {
   "cell_type": "code",
   "execution_count": null,
   "metadata": {},
   "outputs": [],
   "source": []
  },
  {
   "cell_type": "code",
   "execution_count": null,
   "metadata": {},
   "outputs": [],
   "source": []
  },
  {
   "cell_type": "code",
   "execution_count": null,
   "metadata": {},
   "outputs": [],
   "source": []
  },
  {
   "cell_type": "code",
   "execution_count": null,
   "metadata": {},
   "outputs": [],
   "source": []
  },
  {
   "cell_type": "code",
   "execution_count": null,
   "metadata": {},
   "outputs": [],
   "source": []
  },
  {
   "cell_type": "code",
   "execution_count": null,
   "metadata": {},
   "outputs": [],
   "source": []
  },
  {
   "cell_type": "code",
   "execution_count": null,
   "metadata": {},
   "outputs": [],
   "source": [
    "df_unsup = pd.concat([fraud, nfraud])"
   ]
  },
  {
   "cell_type": "code",
   "execution_count": null,
   "metadata": {},
   "outputs": [],
   "source": [
    "df = df_unsup.copy()"
   ]
  },
  {
   "cell_type": "code",
   "execution_count": null,
   "metadata": {},
   "outputs": [],
   "source": [
    "df.to_pickle(\"./df.pkl\")"
   ]
  },
  {
   "cell_type": "code",
   "execution_count": null,
   "metadata": {},
   "outputs": [],
   "source": [
    "df.to_csv('data.csv')"
   ]
  },
  {
   "cell_type": "code",
   "execution_count": null,
   "metadata": {},
   "outputs": [],
   "source": [
    "df.head()"
   ]
  },
  {
   "cell_type": "code",
   "execution_count": null,
   "metadata": {},
   "outputs": [],
   "source": [
    "df_clm = df[['Provider', 'PotentialFraud', 'TotalRev']]"
   ]
  },
  {
   "cell_type": "code",
   "execution_count": null,
   "metadata": {},
   "outputs": [],
   "source": [
    "df_clm['TotalRev'].describe()"
   ]
  },
  {
   "cell_type": "code",
   "execution_count": null,
   "metadata": {},
   "outputs": [],
   "source": []
  }
 ],
 "metadata": {
  "kernelspec": {
   "display_name": "Python 3",
   "language": "python",
   "name": "python3"
  },
  "language_info": {
   "codemirror_mode": {
    "name": "ipython",
    "version": 3
   },
   "file_extension": ".py",
   "mimetype": "text/x-python",
   "name": "python",
   "nbconvert_exporter": "python",
   "pygments_lexer": "ipython3",
   "version": "3.7.3"
  }
 },
 "nbformat": 4,
 "nbformat_minor": 4
}
